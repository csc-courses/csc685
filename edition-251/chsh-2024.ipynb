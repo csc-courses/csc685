{
 "cells": [
  {
   "cell_type": "markdown",
   "metadata": {},
   "source": [
    "##  The CHSH Game\n",
    "\n",
    "\n",
    "_course: quantum cryptography for beginners\n",
    "<br>last-update: \n",
    "<br>&emsp;10 october 2022\n",
    "<br>&emsp;23 september 2024\n",
    "<br>author: burton rosenberg_\n",
    "\n",
    "\n",
    "The CHSH game has a strategy that uses an entangled pair of qubits to win a game of chance with great probability than can be achieved with any non-quantum strategy. The essence of the game is two plays flip coins and then post an outcome, we will call it red or green, that is scored according to the coin flips.\n",
    "\n",
    "If the players could communicate after the coin flips, their winnings would be perfect. But they cannot. Neither knows the others coin flips, hence must play the odds as best as they can. Essentially the players must predict when the coin flips were heads-heads. They can only win at this game one out of four trials.\n",
    "\n",
    "However, if each player has one qubit of an entangled pair of qubits, they can make a measurement on their quibit that depends on the coin flip. The entanglement will correlate the measures so that the players can signal when they have tossed a heads, allowing for a coordinated action in the case of heads-heads.\n",
    "\n",
    "The experiment is named after John Clauser, Michael Horne, Abner Shimony, and Richard Holt, and was proposed in 1969. It was based on trying to prove Bell's Inequality, which gave a framework to test certain hidden-variable theories. "
   ]
  },
  {
   "cell_type": "markdown",
   "metadata": {},
   "source": [
    "\n",
    "### The game\n",
    "\n",
    "Following the tradition in describing cryptographic protocols, our two players are Alice and Bob.\n",
    "\n",
    "Alice and Bob each have a machine with a button that when pushed flips a fair coin. The box has two lights on top, one red and one green, the Alice and Bob will light to signal their decision based on the coin flip. They also half each one half of an EPR pair.\n",
    "\n",
    "To assure Alice and Bob do not communicate after the coin flips, the Alice and Bob and their boxes will be placed light years apart, and their buttons will be pushed simultaneously by using a laser signal sent from a midpoint location between Alice and Bob. The light colors and a message about the coin flips will be sent back to the umpire at the source location of the laser, to determine if the game has been won or list.\n",
    "\n",
    "<pre>\n",
    "\n",
    "      (R)  (G)                       (R)  (G)\n",
    "       |    |                         |    |\n",
    "    +----------+                   +----------+\n",
    "    |   [0/1]  ===|  &lt;-- * --&gt;  |===   [0/1]  |\n",
    "    |          |                   |          |\n",
    "    |   |&phi;&gt;    |                   |   |&phi;&gt;    |\n",
    "    +----------+                   +----------+\n",
    "       Alice                           Bob\n",
    "</pre>\n",
    "\n",
    "The umpire, on receiving from Alice and Bob their coin flips, and seeing the color of their lights, scores this way,\n",
    "\n",
    "| Alice's coin | Bob's coin | Lights |\n",
    "|:-:|:-:|:- |\n",
    "| 0 | 0 | same color |\n",
    "| 1 | 0 | same color |\n",
    "| 0 | 1 | same color |\n",
    "| 1 | 1 | different colors |\n",
    "\n",
    "Hence Alice and Bob both have a strategies $\\cal{A}(a,h), \\cal{B}(b,h) \\in\\{\\,\\!\\mbox{R, G}\\}$\n",
    "with $a,b\\in_R \\{\\,0,1\\,\\}$, two unbaised independently drawn random variables, and $h$ some common strategy data."
   ]
  },
  {
   "cell_type": "markdown",
   "metadata": {},
   "source": [
    "### Classical computation\n",
    "\n",
    "\n",
    "It was noted that classically, strategies exist to win 3/4 of the time. \n",
    "\n",
    "\n",
    "#### Null strategy\n",
    "\n",
    "One strategy is for Alice and Bob to always play green. This makes they always correct in all cases except heads-heads, and in that case they are always wrong. Hence the probabilty of winning is the probabily of avoiding the case heads-heads, or 3/4.\n",
    "\n",
    "#### Mixed Randomized and Null\n",
    "\n",
    "Alice and Bob can trade-off certainty in all cases for some winning in all cases by having Alice always play green and Bob play green on tails, but on heads play green with probability $p$ and red with probability $1-p$. Working through the math, this still gives 3/4 for all $p$. With $p=0$ we have the null strategy, and with $p=1$ we have another deterministic strategy, this one with tails-heads always losing and the other three cases always winning.\n",
    "\n",
    "\n",
    "#### Optimal strategy\n",
    "\n",
    "An argument that 3/4 is the optimal win amount can be based on a reduction argument, in which:\n",
    "\n",
    "- From a strategy to win with greater than 3/4 can be create a algorithm to predict a fair coin with success greater than 1/2.\n",
    "\n",
    "It seems a valid axiom that we cannot do such a prediction, and therefore we cannot have strategy with a win greater than 3/4.\n",
    "\n",
    "#### Quantum\n",
    "\n",
    "However, if Alice and Bob can communicate, they can simply reveal their coins and will all the time. The CHSH game is constructed to make classical communication between Alice and Bob impossible, but uses an entangled qubit pair to create a channel of correlation between Alice and Bob. \n"
   ]
  },
  {
   "cell_type": "markdown",
   "metadata": {},
   "source": [
    "### Quantum computation with entanglement.\n",
    "\n",
    "Alice and Bob share a Bell state, $|00\\rangle+|11\\rangle$. Alice will measure one of the qubits in a basis depending on her coin flip, and Bob will do so on the other qubit. The measurement basis will be described by $|\\phi\\rangle$ described by the Bloch angle $\\theta$ (the measurements will be in the $x$-$z$ plane). \n",
    "\n",
    "| Alice's coin | Alice's $\\theta$ | Bob's coin | Bob's $\\theta$  |\n",
    "|:-:|:-:|:-:|:-:|\n",
    "| 0 | 0 | 0 | $\\pi/4$ |\n",
    "| 1 | $\\pi/2$ | 1 | $-\\pi/4$ |\n",
    "\n",
    "That is, Alice will measure on the Z basis for tails and the X basis for heads. Bob's measurements do not have standard terminolgy, but all these measurements are,\n",
    "\n",
    "$$\n",
    "M_\\theta = \\pmatrix{\\cos \\theta/2 & \\sin \\theta/2 \\\\ \\sin \\theta/2 &  -\\cos \\theta/2 \\\\ }\n",
    "$$\n",
    "\n",
    "We run the experiments. Looking at the historgram of results, we see that for 3 of the 4 coin flips, we decidedly have a positive correlation between the Alice and Bob's measurements; for the fourth coin flip result, we decidely have a negative correlation. This is all we need to the fashion out the narrative of red or green lights."
   ]
  },
  {
   "cell_type": "markdown",
   "metadata": {},
   "source": [
    "### Measuring at &pi;/8\n",
    "\n",
    "In all of the cases favorable to a win, the two measurements are being made at $\\pi/8$ from each other. Hence the advantage over all will be,\n",
    "\n",
    "$$\n",
    "\\cos^2 \\pi/8 = \\left({{1}\\over{2}}\\,\\sqrt{2+\\sqrt{2}}\\right)^2 = 0.8536\n",
    "$$"
   ]
  },
  {
   "cell_type": "code",
   "execution_count": 1,
   "metadata": {
    "scrolled": true
   },
   "outputs": [
    {
     "name": "stdout",
     "output_type": "stream",
     "text": [
      "\n",
      "Alice: 0, Bob: 0\n",
      "        ┌───┐                  ░ ┌─┐   \n",
      "   q_0: ┤ H ├──■───────────────░─┤M├───\n",
      "        └───┘┌─┴─┐┌──────────┐ ░ └╥┘┌─┐\n",
      "   q_1: ─────┤ X ├┤ Ry(-π/4) ├─░──╫─┤M├\n",
      "             └───┘└──────────┘ ░  ║ └╥┘\n",
      "meas: 2/══════════════════════════╩══╩═\n",
      "                                  0  1 \n",
      "{'01': 82, '11': 425, '10': 73, '00': 444}\n",
      "\n",
      "Alice: 0, Bob: 1\n",
      "        ┌───┐                 ░ ┌─┐   \n",
      "   q_0: ┤ H ├──■──────────────░─┤M├───\n",
      "        └───┘┌─┴─┐┌─────────┐ ░ └╥┘┌─┐\n",
      "   q_1: ─────┤ X ├┤ Ry(π/4) ├─░──╫─┤M├\n",
      "             └───┘└─────────┘ ░  ║ └╥┘\n",
      "meas: 2/═════════════════════════╩══╩═\n",
      "                                 0  1 \n",
      "{'01': 63, '10': 89, '11': 433, '00': 439}\n",
      "\n",
      "Alice: 1, Bob: 0\n",
      "        ┌───┐        ┌───┐     ░ ┌─┐   \n",
      "   q_0: ┤ H ├──■─────┤ H ├─────░─┤M├───\n",
      "        └───┘┌─┴─┐┌──┴───┴───┐ ░ └╥┘┌─┐\n",
      "   q_1: ─────┤ X ├┤ Ry(-π/4) ├─░──╫─┤M├\n",
      "             └───┘└──────────┘ ░  ║ └╥┘\n",
      "meas: 2/══════════════════════════╩══╩═\n",
      "                                  0  1 \n",
      "{'01': 71, '00': 433, '10': 81, '11': 439}\n",
      "\n",
      "Alice: 1, Bob: 1\n",
      "        ┌───┐        ┌───┐    ░ ┌─┐   \n",
      "   q_0: ┤ H ├──■─────┤ H ├────░─┤M├───\n",
      "        └───┘┌─┴─┐┌──┴───┴──┐ ░ └╥┘┌─┐\n",
      "   q_1: ─────┤ X ├┤ Ry(π/4) ├─░──╫─┤M├\n",
      "             └───┘└─────────┘ ░  ║ └╥┘\n",
      "meas: 2/═════════════════════════╩══╩═\n",
      "                                 0  1 \n",
      "{'00': 77, '11': 72, '10': 438, '01': 437}\n"
     ]
    }
   ],
   "source": [
    "import numpy as np\n",
    "import math\n",
    "\n",
    "# Import Qiskit\n",
    "from qiskit import QuantumCircuit\n",
    "from qiskit import Aer, transpile\n",
    "from qiskit.tools.visualization import plot_histogram, plot_state_city\n",
    "import qiskit.quantum_info as qi\n",
    "\n",
    "\n",
    "def alice_bob_circuit(a,b):\n",
    "    qc = QuantumCircuit(2)\n",
    "    qc.h(0)\n",
    "    qc.cx(0,1)\n",
    "    if a==1:\n",
    "        qc.h(0)\n",
    "    if b==0:\n",
    "        qc.ry(-math.pi/4.0,1)\n",
    "    else:\n",
    "        qc.ry(math.pi/4.0,1)\n",
    "    qc.measure_all()\n",
    "    return qc\n",
    "\n",
    "def alice_bob_measurements(simulator,verbose=True):\n",
    "    counts = {}\n",
    "    for a in range(2):\n",
    "        for b in range(2):\n",
    "            qc = alice_bob_circuit(a,b)\n",
    "            if verbose:\n",
    "                print(f'\\nAlice: {a}, Bob: {b}')\n",
    "                print(qc.draw(output='text'))\n",
    "            qc = transpile(qc, simulator)\n",
    "            result = simulator.run(qc).result()\n",
    "            counts[(a,b)] = result.get_counts(qc)\n",
    "            if verbose:\n",
    "                print(counts[a,b])\n",
    "    return counts\n",
    "\n",
    "# Transpile for simulator\n",
    "simulator = Aer.get_backend('aer_simulator')\n",
    "counts = alice_bob_measurements(simulator)\n"
   ]
  },
  {
   "cell_type": "code",
   "execution_count": 2,
   "metadata": {},
   "outputs": [
    {
     "name": "stdout",
     "output_type": "stream",
     "text": [
      "\n",
      "Alice: 0, Bob: 0\n",
      "\tGR: 82\n",
      "\tRR: 425\n",
      "\tRG: 73\n",
      "\tGG: 444\n",
      "\twin: 869, lose: 155\n",
      "\tadvantage: 0.8486\n",
      "\n",
      "Alice: 0, Bob: 1\n",
      "\tGR: 63\n",
      "\tRG: 89\n",
      "\tRR: 433\n",
      "\tGG: 439\n",
      "\twin: 872, lose: 152\n",
      "\tadvantage: 0.8516\n",
      "\n",
      "Alice: 1, Bob: 0\n",
      "\tGR: 71\n",
      "\tGG: 433\n",
      "\tRG: 81\n",
      "\tRR: 439\n",
      "\twin: 872, lose: 152\n",
      "\tadvantage: 0.8516\n",
      "\n",
      "Alice: 1, Bob: 1\n",
      "\tGG: 77\n",
      "\tRR: 72\n",
      "\tRG: 438\n",
      "\tGR: 437\n",
      "\twin: 875, lose: 149\n",
      "\tadvantage: 0.8545\n",
      "\n",
      "Game advantage: 0.8516\n"
     ]
    }
   ],
   "source": [
    "# We now go ahead and assign red and green to the measurement \n",
    "# outcomes (said as 0 and 1), and score the game.\n",
    "\n",
    "def scoring(coins,counts):\n",
    "        win = lose = 0 \n",
    "        if coins[0]*coins[1]==1:\n",
    "            # head-heads\n",
    "            for k in counts:\n",
    "                # win on different colors\n",
    "                if k=='10' or k=='01':\n",
    "                    win += counts[k]\n",
    "                else:\n",
    "                    lose += counts[k]\n",
    "        else:\n",
    "            # not head-heads\n",
    "            for k in counts:\n",
    "                # win on same colors\n",
    "                if k=='00' or k=='11':\n",
    "                    win += counts[k]\n",
    "                else:\n",
    "                    lose += counts[k]\n",
    "        return(win,lose)\n",
    "    \n",
    "def alice_bob_scoring(counts):\n",
    "    \n",
    "    def make_into_colors(k):\n",
    "        color = {'0':'G','1':'R'}\n",
    "        return ''.join([color[k[0]],'',color[k[1]]])\n",
    "\n",
    "    overall = 0.0\n",
    "    for a in range(2):\n",
    "        for b in range(2):\n",
    "            print(f'\\nAlice: {a}, Bob: {b}')\n",
    "            c = counts[(a,b)]\n",
    "            score = scoring((a,b),c)\n",
    "            for k in c:\n",
    "                print(f'\\t{make_into_colors(k)}: {c[k]}')\n",
    "            print(f'\\twin: {score[0]}, lose: {score[1]}')\n",
    "            w = score[0]/(score[0]+score[1])\n",
    "            overall += w \n",
    "            print(f'\\tadvantage: {w:.4f}')\n",
    "    return overall/4.0\n",
    "                \n",
    "w = alice_bob_scoring(counts)\n",
    "print(f'\\nGame advantage: {w:.4f}')\n"
   ]
  },
  {
   "cell_type": "markdown",
   "metadata": {},
   "source": [
    "### Exercise A\n",
    "\n",
    "The Bell pair might seem to only allow for final states $|00\\rangle$ or $|11\\rangle$, as suggested by how it is written. However, whatever the measurement is made on one qubit, the other qubit will assume that state.\n",
    "\n",
    "Devise an experiement to demonstrate this.\n",
    "\n"
   ]
  },
  {
   "cell_type": "code",
   "execution_count": 3,
   "metadata": {},
   "outputs": [],
   "source": [
    "# your answer here\n",
    "\n",
    "\n",
    "    "
   ]
  },
  {
   "cell_type": "markdown",
   "metadata": {},
   "source": [
    "### Exercise B\n",
    "\n",
    "The Bell pair must be kept entangled else the game will not work completely. Devise an experiment to learn how disurbing the entanglement will affect the game.\n",
    "\n",
    "_Hint:_ Insert a measurement on one of the qubits before the measurement and see how that changes the advantage of the game.\n"
   ]
  },
  {
   "cell_type": "code",
   "execution_count": 4,
   "metadata": {},
   "outputs": [],
   "source": [
    "# your experiement here\n",
    "\n"
   ]
  },
  {
   "cell_type": "markdown",
   "metadata": {},
   "source": [
    "### Exercise C\n",
    "\n",
    "Explore the choice of Bob's measurement. Change Bob's measurement from $\\pi/8$ to values closer to 0 and see how that effects the advantage of the game.\n",
    "\n",
    "_Hint:_ Redfine alice_bob_circuit() then use all the other code."
   ]
  },
  {
   "cell_type": "code",
   "execution_count": 5,
   "metadata": {},
   "outputs": [],
   "source": [
    "\n",
    "# your code here\n",
    "\n"
   ]
  },
  {
   "cell_type": "markdown",
   "metadata": {},
   "source": [
    "#### END"
   ]
  }
 ],
 "metadata": {
  "kernelspec": {
   "display_name": "Python 3 (ipykernel)",
   "language": "python",
   "name": "python3"
  },
  "language_info": {
   "codemirror_mode": {
    "name": "ipython",
    "version": 3
   },
   "file_extension": ".py",
   "mimetype": "text/x-python",
   "name": "python",
   "nbconvert_exporter": "python",
   "pygments_lexer": "ipython3",
   "version": "3.12.5"
  }
 },
 "nbformat": 4,
 "nbformat_minor": 4
}
