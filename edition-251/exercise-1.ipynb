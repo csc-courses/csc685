{
 "cells": [
  {
   "cell_type": "markdown",
   "metadata": {},
   "source": [
    "# Exercise Set 1\n",
    "\n",
    "_course: quantum cryptography for beginners\n",
    "<br>date: 24 august 2024\n",
    "<br>author: burton rosenberg_\n"
   ]
  },
  {
   "cell_type": "markdown",
   "metadata": {},
   "source": [
    "### Imports\n",
    "\n",
    "Note that you have qiskit 1.0 installed. This is a breaking change from qiskit 0.0; be careful with internet advice."
   ]
  },
  {
   "cell_type": "code",
   "execution_count": 1,
   "metadata": {},
   "outputs": [
    {
     "name": "stdout",
     "output_type": "stream",
     "text": [
      "\n",
      "qiskit version: 1.1.2\n",
      "\n"
     ]
    }
   ],
   "source": [
    "import qiskit\n",
    "import time, math\n",
    "from qiskit import QuantumCircuit\n",
    "from qiskit.quantum_info import Statevector  \n",
    "from qiskit.visualization import plot_bloch_multivector\n",
    "from qiskit.visualization import plot_bloch_vector\n",
    "\n",
    "print(f'\\nqiskit version: {qiskit.version.get_version_info()}\\n')"
   ]
  },
  {
   "cell_type": "markdown",
   "metadata": {},
   "source": [
    "## Exercise A:\n",
    "\n",
    "We have explored the Pauli X gate. For this exercise, explore the Pauli Y and Z gates for the same properties. Answer for each the Y and Z gates,\n",
    "\n",
    "- Which among the 6 basis vectors are those that are fixed by they gate.\n",
    "- For which pairs of basis vectors does that gate perform a logical not operation\n",
    "\n",
    "References:\n",
    "\n",
    "\n",
    "- [Qiskit Z Gate](https://docs.quantum.ibm.com/api/qiskit/qiskit.circuit.library.ZGate)\n",
    "- [Qiskit Y Gate](https://docs.quantum.ibm.com/api/qiskit/qiskit.circuit.library.YGate)\n"
   ]
  },
  {
   "cell_type": "code",
   "execution_count": 2,
   "metadata": {},
   "outputs": [],
   "source": [
    "# some help with this, functions that return basis vectors, prepared using various gates\n",
    "\n",
    "def Z_zero():\n",
    "    qc = QuantumCircuit(1)\n",
    "    return qc\n",
    "\n",
    "def Z_one():\n",
    "    qc = Z_zero()\n",
    "    qc.x(0)\n",
    "    return qc\n",
    "\n",
    "def X_zero():\n",
    "    qc = Z_zero()\n",
    "    qc.h(0)\n",
    "    return qc\n",
    "\n",
    "def X_one():\n",
    "    qc = Z_one()\n",
    "    qc.h(0)\n",
    "    return qc\n",
    "\n",
    "def Y_zero():\n",
    "    qc = Z_zero()\n",
    "    qc.sxdg(0)\n",
    "    return qc\n",
    "\n",
    "def Y_one():\n",
    "    qc = Z_one()\n",
    "    qc.sxdg(0)\n",
    "    return qc\n",
    "\n",
    "def make_basis(s):\n",
    "    d = {'0':Z_zero, '1':Z_one, '+':X_zero, '-':X_one, 'i':Y_zero, 'I':Y_one} \n",
    "    return d[s]()\n",
    "\n",
    "def make_statevector(s):\n",
    "    qc = make_basis(s)\n",
    "    sv = Statevector(qc)\n",
    "    return sv\n",
    "    \n",
    "# make_statevector('+').draw('latex')\n",
    "\n",
    "\n",
    "#\n",
    "# for each the Z and Y gate, what basis are fixed, and which pairs does the get logically invert\n",
    "#\n",
    "# Exercise A here\n",
    "# ...\n"
   ]
  },
  {
   "cell_type": "markdown",
   "metadata": {},
   "source": [
    "\n",
    "## Exercise B\n",
    "\n",
    "Verify these important relationships for the Pauli Operators\n",
    "\n",
    "- XX == YY == ZZ == 1, any Pauli applied twice is the identity.\n",
    "- XY == iZ, YZ == iX, ZX == iY, Pauli's composed in cyclic order is i times the identity\n",
    "- XY == -YX, etc. Pauli's anti-commute in pairs.\n",
    "\n",
    "Show this by explicitly compuing what happens on basis vectors. What are the fewest basis vectors to check to ascertain that all basis vectors will check?\n",
    "\n",
    "Because the global phase needs to be shown, inspection of the state vectors is required.\n"
   ]
  },
  {
   "cell_type": "code",
   "execution_count": 3,
   "metadata": {},
   "outputs": [
    {
     "data": {
      "text/latex": [
       "$\\displaystyle XYZ\\,|0\\rangle=$"
      ],
      "text/plain": [
       "<IPython.core.display.Math object>"
      ]
     },
     "metadata": {},
     "output_type": "display_data"
    },
    {
     "data": {
      "text/latex": [
       "$$- i |0\\rangle$$"
      ],
      "text/plain": [
       "<IPython.core.display.Latex object>"
      ]
     },
     "metadata": {},
     "output_type": "display_data"
    },
    {
     "data": {
      "text/latex": [
       "$\\displaystyle XYZ\\,|-i\\rangle=$"
      ],
      "text/plain": [
       "<IPython.core.display.Math object>"
      ]
     },
     "metadata": {},
     "output_type": "display_data"
    },
    {
     "data": {
      "text/latex": [
       "$$(\\frac{1}{2} - \\frac{i}{2}) |0\\rangle+(- \\frac{1}{2} - \\frac{i}{2}) |1\\rangle$$"
      ],
      "text/plain": [
       "<IPython.core.display.Latex object>"
      ]
     },
     "metadata": {},
     "output_type": "display_data"
    }
   ],
   "source": [
    "# example solution\n",
    "\n",
    "# check XY=iZ, multiply both sides by Z, => XYZ=iZZ=iI\n",
    "# see if XYZ |0> = i |0>, for instance\n",
    "\n",
    "def xyz_circuit(s):\n",
    "    qc = make_basis(s)\n",
    "    qc.x(0)\n",
    "    qc.y(0)\n",
    "    qc.z(0)\n",
    "    return Statevector(qc)\n",
    "\n",
    "sv_z0 = xyz_circuit('0').draw('latex')\n",
    "sv_y1 = xyz_circuit('I').draw('latex')\n",
    "\n",
    "from IPython.display import display, Math\n",
    "display(Math(r'XYZ\\,|0\\rangle='), sv_z0)\n",
    "display(Math(r'XYZ\\,|-i\\rangle='), sv_y1)\n",
    "\n",
    "# Exercise B here\n",
    "# ...\n"
   ]
  },
  {
   "cell_type": "markdown",
   "metadata": {},
   "source": [
    "## Exercise C\n",
    "\n",
    "We built the $|i\\rangle$ from the square root of the X operator, giving a 90 degree rotation on the X axis to the $|0\\rangle$ state. \n",
    "\n",
    "Look at the documentation for the [S gate](https://docs.quantum.ibm.com/api/qiskit/qiskit.circuit.library.TGate) and [T gate](https://docs.quantum.ibm.com/api/qiskit/qiskit.circuit.library.TGate), respectively the square and fourth-roots of the Z operator. \n",
    "\n",
    "- create the $|i\\rangle$  state with an S and an H gate.\n",
    "\n",
    "We now know the result of any sequence of operations when the operators are Pauli X, Y and Z gates. Find out what happens for interactions between the H gate and the Pauli operators.\n",
    "\n",
    "- demonstrat that HZH=X and HXH==Z (but why does one \"obviously\" imply the other)\n",
    "- (math question) how does this imply ZH=HX and HZ=XH\n",
    "- what about HYH?\n",
    "\n",
    "For the mathmatically inclined, you might like to know that,\n",
    "\n",
    "$$\n",
    "H = \\frac{1}{\\sqrt{2}}\\,( X+ Z)\n",
    "$$"
   ]
  },
  {
   "cell_type": "code",
   "execution_count": 4,
   "metadata": {},
   "outputs": [],
   "source": [
    "# Exercise C here:\n",
    "# ...\n"
   ]
  },
  {
   "cell_type": "markdown",
   "metadata": {},
   "source": [
    "## End of Page"
   ]
  }
 ],
 "metadata": {
  "kernelspec": {
   "display_name": "Python 3 (ipykernel)",
   "language": "python",
   "name": "python3"
  },
  "language_info": {
   "codemirror_mode": {
    "name": "ipython",
    "version": 3
   },
   "file_extension": ".py",
   "mimetype": "text/x-python",
   "name": "python",
   "nbconvert_exporter": "python",
   "pygments_lexer": "ipython3",
   "version": "3.12.5"
  }
 },
 "nbformat": 4,
 "nbformat_minor": 4
}
