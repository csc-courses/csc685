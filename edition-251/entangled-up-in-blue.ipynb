{
 "cells": [
  {
   "cell_type": "markdown",
   "id": "249d396d-58eb-4f31-884b-240afd7b8b93",
   "metadata": {},
   "source": [
    "# Lesson 2: Tensor Products and Entanglement \n",
    "\n",
    "_course: quantum cryptography for beginners\n",
    "<br>date: 1 september 2024\n",
    "<br>author: burton rosenberg_\n",
    "\n",
    "---\n",
    "\n",
    "**This lesson discuses,**\n",
    "\n",
    "- Tensor products\n",
    "- Entanglement\n",
    "\n",
    "Included in this is some quiskit/python/jupyter examples, and the quiskit documentation.\n",
    "\n"
   ]
  },
  {
   "cell_type": "code",
   "execution_count": 1,
   "id": "7faad169-d9a6-4ab0-b706-f797156586e5",
   "metadata": {},
   "outputs": [
    {
     "name": "stdout",
     "output_type": "stream",
     "text": [
      "\n",
      "qiskit version: 1.1.2\n",
      "\n"
     ]
    }
   ],
   "source": [
    "import qiskit\n",
    "from qiskit import QuantumCircuit\n",
    "from qiskit.quantum_info import Statevector, Operator, Pauli \n",
    "from qiskit.visualization import plot_bloch_multivector, plot_bloch_vector\n",
    "from IPython.display import display, Math, HTML\n",
    "import time, math\n",
    "\n",
    "print(f'\\nqiskit version: {qiskit.version.get_version_info()}\\n')"
   ]
  },
  {
   "cell_type": "markdown",
   "id": "0c4ceb0a-ffb1-4690-ad0a-cff490b5c803",
   "metadata": {},
   "source": [
    "### The Tensor and Kronecker products\n",
    "\n",
    "The space of each qubit are combined into systems of qubits through the *tensor product*. The tensor product is almost the product space of its subspaces, but constrained by bilinearity. Given two qubits spaces considered as the cartesian product   $Q\\times Q $, the combined system \n",
    "$Q\\otimes Q$ is provided by,\n",
    "\n",
    "$$\n",
    "\\begin{matrix}\n",
    "Q,\\,Q & \\longrightarrow & Q\\times Q \\\\\n",
    " & \\searrow & \\Big\\downarrow\\\\\n",
    " && Q\\otimes Q\n",
    "\\end{matrix}\n",
    "$$\n",
    "where the downarrow is provided by the bilinearity relations,\n",
    "$$\n",
    "\\begin{array}{rrcl}\n",
    "\\text{commutes with addition on the right:} & a\\otimes (b+c) &=& a\\otimes b\\, + \\, a\\otimes c \\\\\n",
    " \\text{commutes with addition on the left:}&(a + b) \\otimes c &=& a\\otimes c\\, + \\, b\\otimes c\\\\\n",
    "\\text{commutes with scalars:}&(\\lambda \\,a )\\otimes b &=& \\lambda\\, (a\\otimes b) = a\\otimes(\\lambda\\,c)\n",
    "\\end{array}\n",
    "$$\n",
    "In particular, we have the formula for the _Kronecker product_,\n",
    "$$\n",
    "\\begin{array}{ccl}\n",
    "Q \\times Q & \\rightarrow & Q\\otimes Q\\\\\n",
    " \\sum_i \\alpha_i |i\\rangle, \\,\\sum_j \\beta_j |j\\rangle & \\mapsto & \\sum_{i,j} \\,\\alpha_i\\,\\beta_j\\, |i\\rangle\\otimes |j\\rangle\n",
    "\\end{array}\n",
    "$$\n",
    "where every $|i\\rangle\\otimes |j\\rangle$ is a basis element in the space $Q\\otimes Q$.\n",
    "\n",
    "Here is the formula applied to the two qubit state $|0\\rangle\\otimes |0\\rangle$, which is also written as $|0\\rangle|0\\rangle$\n",
    "and as $|00\\rangle$,\n",
    "\\begin{eqnarray*}\n",
    "|00\\rangle \n",
    "&=& \\begin{pmatrix} 1\\\\0\\end{pmatrix} \\,\\otimes\\,  \\begin{pmatrix} 1\\\\0\\end{pmatrix} \\\\\n",
    "&=&  \\begin{pmatrix} 1 \\begin{pmatrix}1\\\\0\\end{pmatrix}\\\\0 \\begin{pmatrix} 1\\\\0\\end{pmatrix}\\end{pmatrix}\n",
    "=\\begin{pmatrix} 1 \\\\0\\\\0\\\\0\\end{pmatrix}\n",
    "\\end{eqnarray*}\n",
    "\n",
    "&starf;_You will be asked in the exercises to multiply out the other three cases, $|01\\rangle, |10\\rangle$ and $|11\\rangle$._\n",
    "\n",
    "There is the seriously interesting formula, \n",
    "$$\n",
    "\\langle a\\otimes b | c\\otimes d\\rangle = \\langle a|c\\rangle\\,\\langle b|d\\rangle\n",
    "$$\n",
    "which specializes to,\n",
    "$$\n",
    "\\langle a\\otimes b | a\\otimes b\\rangle = \\langle a|a\\rangle\\,\\langle b|b\\rangle\n",
    "$$\n",
    "so that the tensor produce of unit vectors is a unit vector (in the tensor product space).\n",
    "\n",
    "&starf;_You will be asked in the exercises to prove this formula._\n"
   ]
  },
  {
   "cell_type": "code",
   "execution_count": 2,
   "id": "a274c619-d5de-4b37-87fb-c7e695594b58",
   "metadata": {},
   "outputs": [
    {
     "data": {
      "text/html": [
       "<br><h3>Tensor of Basis States</h3>"
      ],
      "text/plain": [
       "<IPython.core.display.HTML object>"
      ]
     },
     "metadata": {},
     "output_type": "display_data"
    },
    {
     "data": {
      "text/latex": [
       "$\\displaystyle |0\\rangle\\otimes|0\\rangle  = [1.+0.j,0.+0.j,0.+0.j,0.+0.j]$"
      ],
      "text/plain": [
       "<IPython.core.display.Math object>"
      ]
     },
     "metadata": {},
     "output_type": "display_data"
    },
    {
     "data": {
      "text/latex": [
       "$\\displaystyle |0\\rangle\\otimes|1\\rangle  = [0.+0.j,1.+0.j,0.+0.j,0.+0.j]$"
      ],
      "text/plain": [
       "<IPython.core.display.Math object>"
      ]
     },
     "metadata": {},
     "output_type": "display_data"
    },
    {
     "data": {
      "text/latex": [
       "$\\displaystyle |1\\rangle\\otimes|0\\rangle  = [0.+0.j,0.+0.j,1.+0.j,0.+0.j]$"
      ],
      "text/plain": [
       "<IPython.core.display.Math object>"
      ]
     },
     "metadata": {},
     "output_type": "display_data"
    },
    {
     "data": {
      "text/latex": [
       "$\\displaystyle |1\\rangle\\otimes|1\\rangle  = [0.+0.j,0.+0.j,0.+0.j,1.+0.j]$"
      ],
      "text/plain": [
       "<IPython.core.display.Math object>"
      ]
     },
     "metadata": {},
     "output_type": "display_data"
    },
    {
     "name": "stdout",
     "output_type": "stream",
     "text": [
      "\n"
     ]
    }
   ],
   "source": [
    "display(HTML('<br><h3>Tensor of Basis States</h3>'))\n",
    "qc_0 = QuantumCircuit(1)\n",
    "qc_1 = QuantumCircuit(1)\n",
    "qc_1.x(0)\n",
    "sv = [ Statevector(qc_0), Statevector(qc_1)]\n",
    "for i in range(2):\n",
    "    for j in range(2):\n",
    "        t = sv[j].expand(sv[i]).draw('text')\n",
    "        s = Math(rf'|{i}\\rangle\\otimes|{j}\\rangle  = {t}')\n",
    "        display(s)\n",
    "print()"
   ]
  },
  {
   "cell_type": "markdown",
   "id": "ef7db117-747a-4efd-bd7e-958d2ab6aa4a",
   "metadata": {},
   "source": [
    "### The Tensor products of operators\n",
    "\n",
    "Given unitary matrices, $N$ and $M$, define the unitary matrix $N\\oplus M$ by \n",
    "$$\n",
    "Nq\\otimes Mv = (N\\otimes M)(q\\otimes v).\n",
    "$$\n",
    "This means that given the states of the two qubits, $q$ and $v$, there is a resulting \n",
    "state in the tensor product space resulting in,\n",
    "- applying $N$ to $q$, $M$ to $v$, and mapping by the tensor map of states\n",
    "- or applying the tensor map of operators $N\\otimes M$ to the tensor map of states $q\\otimes v$,\n",
    "and these two paths are equivalent,\n",
    "$$\n",
    "\\begin{array}{ccc}\n",
    "q,\\,v & \\longrightarrow & q\\otimes v \\\\\n",
    " \\Big\\downarrow  & \n",
    "\\circlearrowright & \\Big\\downarrow\\\\\n",
    " Nq,\\, Mv & \\longrightarrow  & (N\\otimes M)(q\\otimes v) \n",
    "\\end{array}\n",
    "$$\n",
    "\n",
    "This also can be computed by the Kronecker product."
   ]
  },
  {
   "cell_type": "code",
   "execution_count": 8,
   "id": "19ad0328-e488-40ef-9a61-dfe88b6a7ae1",
   "metadata": {},
   "outputs": [
    {
     "data": {
      "text/html": [
       "<br><h3>Tensor of Operators</h3>"
      ],
      "text/plain": [
       "<IPython.core.display.HTML object>"
      ]
     },
     "metadata": {},
     "output_type": "display_data"
    },
    {
     "data": {
      "text/latex": [
       "$\\displaystyle X \\otimes X = \n",
       "\n",
       "\\begin{bmatrix}\n",
       "0 & 1  \\\\\n",
       " 1 & 0  \\\\\n",
       " \\end{bmatrix}\n",
       " \\otimes \n",
       "\n",
       "\\begin{bmatrix}\n",
       "0 & 1  \\\\\n",
       " 1 & 0  \\\\\n",
       " \\end{bmatrix}\n",
       " = \n",
       "\n",
       "\\begin{bmatrix}\n",
       "0 & 0 & 0 & 1  \\\\\n",
       " 0 & 0 & 1 & 0  \\\\\n",
       " 0 & 1 & 0 & 0  \\\\\n",
       " 1 & 0 & 0 & 0  \\\\\n",
       " \\end{bmatrix}\n",
       "$"
      ],
      "text/plain": [
       "<IPython.core.display.Math object>"
      ]
     },
     "metadata": {},
     "output_type": "display_data"
    },
    {
     "data": {
      "text/latex": [
       "$\\displaystyle H \\otimes H = \n",
       "\n",
       "\\begin{bmatrix}\n",
       "\\frac{\\sqrt{2}}{2} & \\frac{\\sqrt{2}}{2}  \\\\\n",
       " \\frac{\\sqrt{2}}{2} & - \\frac{\\sqrt{2}}{2}  \\\\\n",
       " \\end{bmatrix}\n",
       " \\otimes \n",
       "\n",
       "\\begin{bmatrix}\n",
       "\\frac{\\sqrt{2}}{2} & \\frac{\\sqrt{2}}{2}  \\\\\n",
       " \\frac{\\sqrt{2}}{2} & - \\frac{\\sqrt{2}}{2}  \\\\\n",
       " \\end{bmatrix}\n",
       " = \n",
       "\n",
       "\\begin{bmatrix}\n",
       "\\frac{1}{2} & \\frac{1}{2} & \\frac{1}{2} & \\frac{1}{2}  \\\\\n",
       " \\frac{1}{2} & - \\frac{1}{2} & \\frac{1}{2} & - \\frac{1}{2}  \\\\\n",
       " \\frac{1}{2} & \\frac{1}{2} & - \\frac{1}{2} & - \\frac{1}{2}  \\\\\n",
       " \\frac{1}{2} & - \\frac{1}{2} & - \\frac{1}{2} & \\frac{1}{2}  \\\\\n",
       " \\end{bmatrix}\n",
       "$"
      ],
      "text/plain": [
       "<IPython.core.display.Math object>"
      ]
     },
     "metadata": {},
     "output_type": "display_data"
    },
    {
     "data": {
      "text/html": [
       "<p><h4>Walsh-Hamadard transform</h4>"
      ],
      "text/plain": [
       "<IPython.core.display.HTML object>"
      ]
     },
     "metadata": {},
     "output_type": "display_data"
    },
    {
     "data": {
      "text/latex": [
       "$\\displaystyle (H \\otimes H) \\,|00\\rangle = \\frac{1}{2} |00\\rangle+\\frac{1}{2} |01\\rangle+\\frac{1}{2} |10\\rangle+\\frac{1}{2} |11\\rangle$"
      ],
      "text/plain": [
       "<IPython.core.display.Math object>"
      ]
     },
     "metadata": {},
     "output_type": "display_data"
    },
    {
     "data": {
      "text/latex": [
       "$\\displaystyle (H \\otimes H) \\,|01\\rangle = \\frac{1}{2} |00\\rangle- \\frac{1}{2} |01\\rangle+\\frac{1}{2} |10\\rangle- \\frac{1}{2} |11\\rangle$"
      ],
      "text/plain": [
       "<IPython.core.display.Math object>"
      ]
     },
     "metadata": {},
     "output_type": "display_data"
    }
   ],
   "source": [
    "display(HTML('<br><h3>Tensor of Operators</h3>'))\n",
    "\n",
    "qc = QuantumCircuit(2)\n",
    "qc.x(0)\n",
    "qc.x(1)\n",
    "op_xx = Operator(qc)\n",
    "qc = QuantumCircuit(1)\n",
    "qc.x(0)\n",
    "op_x = Operator(qc)\n",
    "display(Math(rf\"X \\otimes X = {op_x.draw('latex_source')} \\otimes {op_x.draw('latex_source')} = {op_xx.draw('latex_source')}\"))\n",
    "\n",
    "qc = QuantumCircuit(2)\n",
    "qc.h(0)\n",
    "qc.h(1)\n",
    "op_hh = Operator(qc)\n",
    "sv_hh = Statevector(qc)\n",
    "\n",
    "qc = QuantumCircuit(1)\n",
    "qc.h(0)\n",
    "op_h = Operator(qc)\n",
    "\n",
    "display(Math(rf\"H \\otimes H = {op_h.draw('latex_source')} \\otimes {op_h.draw('latex_source')} = {op_hh.draw('latex_source')}\"))\n",
    "display(HTML(rf\"<p><h4>Walsh-Hamadard transform</h4>\"))\n",
    "display(Math(rf\"(H \\otimes H) \\,|00\\rangle = {sv_hh.draw('latex_source')}\"))\n",
    "\n",
    "qc = QuantumCircuit(2)\n",
    "qc.x(0)\n",
    "qc.h(0)\n",
    "qc.h(1)\n",
    "sv_hh = Statevector(qc)\n",
    "display(Math(rf\"(H \\otimes H) \\,|01\\rangle = {sv_hh.draw('latex_source')}\"))"
   ]
  },
  {
   "cell_type": "markdown",
   "id": "bf345b44-a12d-44ff-90c8-289979d0ef39",
   "metadata": {},
   "source": [
    "### Adjoint Spaces and Controled Gates\n",
    "\n",
    "The tensoring of a state space can continue to any finite number of qubits as $Q\\otimes Q\\otimes ... \\otimes Q = Q^{\\otimes n}$, or if I don't care about the dimension, $Q^\\otimes$, or just $Q$, suppressing all concern for the number of qubits in the space.\n",
    "\n",
    "The space $Q$ pairs with an *adjoint space* $Q^*$ (associate with the Hermian transpose) of linear functions from $Q$ to the base field $\\mathbb{C}$,\n",
    "$$\n",
    "\\begin{array}{ccc}\n",
    "Q^* \\times Q& \\longrightarrow &\\mathbb{C}\\\\\n",
    "\\langle s | q \\rangle & \\mapsto & c\n",
    "\\end{array}\n",
    "$$\n",
    "Any state $|q\\rangle\\in Q$ has an adjoint $\\langle q | \\in Q^*$ such that $\\langle q | q \\rangle = 1$. The bra $\\langle q|$ also defines a space of states orthogonal to $|q\\rangle$, those $|q'\\rangle$ such that $\\langle q|q'\\rangle = 0$.\n",
    "\n",
    "The inner product defines length and ortogonaly of states, with the important evalutions for the the computational basis,\n",
    "$$\n",
    " |a\\rangle\\langle b | = \\begin{cases} 1 & a=b\\\\\n",
    " 0 & a\\not = b\n",
    " \\end{cases}, \\qquad a,b \\in \\{\\,0,1\\,\\}\n",
    "$$\n",
    "\n",
    "An operator can be formed evaluating on an adjoint, and applying the scalar result to a state. For $M=|a\\rangle\\langle b|$,\n",
    "$$\n",
    "M \\,|q\\rangle = |a\\rangle\\,\\,\\langle b|q\\rangle = (\\langle b|q\\rangle)\\,\\,a\\\n",
    "$$\n",
    "The two operators $|0\\rangle\\langle 0|$ and $|1\\rangle\\langle 1|$ can be used as selectors on one qubit in order to apply one or not apply  a gate on a second qubit. The _controlled not_ is defined in this way,\n",
    "$$\n",
    "{}^{(\\neg)}X = | 0\\rangle\\langle 0| \\otimes \\mathbb{I} + |1\\rangle\\langle 1| \\otimes X\n",
    "$$\n",
    "The action of this gate on $|10\\rangle$ is,\n",
    "\\begin{eqnarray*}\n",
    "{}^{(\\neg)}X\\,|10\\rangle &=& | 0\\rangle\\langle 0|1\\rangle \\otimes \\mathbb{I}|0\\rangle + |1\\rangle\\langle 1|1\\rangle \\otimes X|0\\rangle\\\\\n",
    "&=& 0\\,(|0\\rangle\\otimes |0\\rangle)+1\\,(|1\\rangle\\otimes|1\\rangle) = |11\\rangle\n",
    "\\end{eqnarray*}\n",
    "\n",
    "&starf;_You will be asked in the exercises to multiply out the other three cases, $|01\\rangle, |10\\rangle$ and $|11\\rangle$._"
   ]
  },
  {
   "cell_type": "code",
   "execution_count": 4,
   "id": "3bfe3be7-cdd7-4e54-92fe-2ccd3fa64903",
   "metadata": {},
   "outputs": [
    {
     "data": {
      "text/html": [
       "<br><h3>CNOT Gate</h3>"
      ],
      "text/plain": [
       "<IPython.core.display.HTML object>"
      ]
     },
     "metadata": {},
     "output_type": "display_data"
    },
    {
     "data": {
      "text/latex": [
       "$\\displaystyle {}^{(\\neg)}X = | 0\\rangle\\langle 0| \\otimes \\mathbb{I} + |1\\rangle\\langle 1| \\otimes X = \n",
       "\n",
       "\\begin{bmatrix}\n",
       "1 & 0  \\\\\n",
       " 0 & 0  \\\\\n",
       " \\end{bmatrix}\n",
       " \\otimes \n",
       "\n",
       "\\begin{bmatrix}\n",
       "1 & 0  \\\\\n",
       " 0 & 1  \\\\\n",
       " \\end{bmatrix}\n",
       " +\n",
       "\n",
       "\\begin{bmatrix}\n",
       "0 & 0  \\\\\n",
       " 0 & 1  \\\\\n",
       " \\end{bmatrix}\n",
       " \\otimes \n",
       "\n",
       "\\begin{bmatrix}\n",
       "0 & 1  \\\\\n",
       " 1 & 0  \\\\\n",
       " \\end{bmatrix}\n",
       "  = \n",
       "\n",
       "\\begin{bmatrix}\n",
       "1 & 0 & 0 & 0  \\\\\n",
       " 0 & 1 & 0 & 0  \\\\\n",
       " 0 & 0 & 0 & 1  \\\\\n",
       " 0 & 0 & 1 & 0  \\\\\n",
       " \\end{bmatrix}\n",
       "$"
      ],
      "text/plain": [
       "<IPython.core.display.Math object>"
      ]
     },
     "metadata": {},
     "output_type": "display_data"
    }
   ],
   "source": [
    "display(HTML('<br><h3>CNOT Gate</h3>'))\n",
    "\n",
    "op_X = Operator(Pauli('X'))\n",
    "op_I = Operator(Pauli('I'))\n",
    "\n",
    "zero_zero = Operator([[1,0],[0,0]])\n",
    "one_one = Operator([[0,0],[0,1]])\n",
    "cnot = zero_zero.tensor(op_I)+one_one.tensor(op_X)\n",
    "\n",
    "display(Math(r\"{}^{(\\neg)}X = | 0\\rangle\\langle 0| \\otimes \\mathbb{I} + |1\\rangle\\langle 1| \\otimes X = \"\n",
    "             +rf\"{zero_zero.draw('latex_source')} \\otimes {op_I.draw('latex_source')} +{one_one.draw('latex_source')} \\otimes {op_X.draw('latex_source')}  = {cnot.draw('latex_source')}\"))\n"
   ]
  },
  {
   "cell_type": "code",
   "execution_count": 5,
   "id": "534354b9-4e7c-499c-b289-7924e8b40a5f",
   "metadata": {},
   "outputs": [
    {
     "data": {
      "text/html": [
       "<br><h3>Circuit diagram to test on 01</h3>"
      ],
      "text/plain": [
       "<IPython.core.display.HTML object>"
      ]
     },
     "metadata": {},
     "output_type": "display_data"
    },
    {
     "data": {
      "image/png": "[encoded data removed]",
      "text/plain": [
       "<Figure size 287.294x200.667 with 1 Axes>"
      ]
     },
     "metadata": {},
     "output_type": "display_data"
    },
    {
     "data": {
      "text/latex": [
       "$\\displaystyle \\text{input: } |10\\rangle$"
      ],
      "text/plain": [
       "<IPython.core.display.Math object>"
      ]
     },
     "metadata": {},
     "output_type": "display_data"
    },
    {
     "data": {
      "text/latex": [
       "$\\displaystyle \\text{output: } |11\\rangle$"
      ],
      "text/plain": [
       "<IPython.core.display.Math object>"
      ]
     },
     "metadata": {},
     "output_type": "display_data"
    }
   ],
   "source": [
    "\n",
    "display(HTML('<br><h3>Circuit diagram to test on 01</h3>'))\n",
    "qc = QuantumCircuit(2)\n",
    "qc.x(1)\n",
    "sv_in = Statevector(qc)\n",
    "qc.cx(1,0)\n",
    "sv_out = Statevector(qc)\n",
    "display(qc.draw('mpl'))\n",
    "ti = r\"\\text{input: }\"\n",
    "to = r\"\\text{output: }\"\n",
    "display(Math(rf\"{ti}{sv_in.draw('latex_source')}\"))\n",
    "display(Math(rf\"{to}{sv_out.draw('latex_source')}\"))\n",
    "\n"
   ]
  },
  {
   "cell_type": "markdown",
   "id": "a0a32f71-b0e2-4ef6-8b98-3c2fb6329c92",
   "metadata": {},
   "source": [
    "### The Bell State and entanglement\n",
    "\n",
    "The Hadamard gate puts a qubit in superposition. Using this superposed qubit as the control to a Pauli X operator puts two qubits in a correlated superposition of both zero or both one. \n",
    "$$\n",
    "\\Phi^+ = \\frac{\\sqrt{2}}{2} |00\\rangle+\\frac{\\sqrt{2}}{2} |11\\rangle\n",
    "$$\n",
    "There are three other Bell states,\n",
    "\\begin{eqnarray*}\n",
    "\\Phi^- & =& \\frac{\\sqrt{2}}{2} |00\\rangle-\\frac{\\sqrt{2}}{2} |11\\rangle \\\\\n",
    "\\Psi^+&=& \\frac{\\sqrt{2}}{2} |01\\rangle+\\frac{\\sqrt{2}}{2} |10\\rangle \\\\\n",
    "\\Psi^-&=& \\frac{\\sqrt{2}}{2} |01\\rangle-\\frac{\\sqrt{2}}{2} |10\\rangle\n",
    "\\end{eqnarray*}\n",
    "What is significant about these states is that they cannot be written as a tensor product of two qubit states. They are not\n",
    "in the image of the tensor map from pairs of states to tensor products of states. Such states are called _entangled states_. \n",
    "\n",
    "A state being entangled does not depend on the basis. If we do a change of basis to a Bell state we will still have an\n",
    "entangled state. Consider a change to the X basis, governed by the change of basis equations,\n",
    "$$\n",
    "\\begin{eqnarray*}\n",
    "\\sqrt{2}\\, |0\\rangle &=& |+\\rangle + |-\\rangle\\\\\n",
    "\\sqrt{2}\\, |1\\rangle &=& |+\\rangle - |-\\rangle\\\\\n",
    "\\end{eqnarray*}\n",
    "$$\n",
    "so\n",
    "$$\n",
    "\\begin{eqnarray*}\n",
    "2\\sqrt{2}\\,\\Phi^+ &=& 2\\, |00\\rangle+2\\, |11\\rangle\\\\\n",
    "&=& (|+\\rangle + |-\\rangle)^{\\otimes 2} + (|+\\rangle - |-\\rangle)^{\\otimes 2} \\\\\n",
    "&=& |++\\rangle + |+-\\rangle + |-+\\rangle + |--\\rangle +|++\\rangle - |+-\\rangle - |-+\\rangle + |--\\rangle\\\\\n",
    "&=& 2 ( |++\\rangle +  |--\\rangle)\n",
    "\\end{eqnarray*}\n",
    "$$\n",
    "therefore,\n",
    "$$\n",
    "\\Phi^+ = \\frac{\\sqrt{2}}{2} |++\\rangle+\\frac{\\sqrt{2}}{2} |--\\rangle\n",
    "$$\n",
    "\n",
    "The consequence is that the qubits are not independent. If we measure on the Z basis, measuring one qubit makes the state of the other certain. We have show, that this is also true in the Y basis. \n"
   ]
  },
  {
   "cell_type": "code",
   "execution_count": 10,
   "id": "d94018eb-4027-4257-8a6a-9303c8bc874f",
   "metadata": {},
   "outputs": [
    {
     "data": {
      "text/html": [
       "<h3>Bell State</h3>"
      ],
      "text/plain": [
       "<IPython.core.display.HTML object>"
      ]
     },
     "metadata": {},
     "output_type": "display_data"
    },
    {
     "data": {
      "image/png": "[encoded data removed]",
      "text/plain": [
       "<Figure size 287.294x200.667 with 1 Axes>"
      ]
     },
     "metadata": {},
     "output_type": "display_data"
    },
    {
     "data": {
      "text/latex": [
       "$$\\frac{\\sqrt{2}}{2} |00\\rangle+\\frac{\\sqrt{2}}{2} |11\\rangle$$"
      ],
      "text/plain": [
       "<IPython.core.display.Latex object>"
      ]
     },
     "metadata": {},
     "output_type": "display_data"
    }
   ],
   "source": [
    "display(HTML(\"<h3>Bell State</h3>\"))\n",
    "\n",
    "qc = QuantumCircuit(2)\n",
    "qc.h(0)\n",
    "qc.cx(0,1)\n",
    "display(qc.draw('mpl'))\n",
    "sv = Statevector(qc)\n",
    "display(sv.draw('latex'))"
   ]
  },
  {
   "cell_type": "markdown",
   "id": "66254c64-cacb-4e1d-a0e6-6ad33576218c",
   "metadata": {},
   "source": [
    "\n"
   ]
  },
  {
   "cell_type": "code",
   "execution_count": null,
   "id": "74de046c-63ef-4bb9-96a2-ff688d2a271c",
   "metadata": {},
   "outputs": [],
   "source": []
  }
 ],
 "metadata": {
  "kernelspec": {
   "display_name": "Python 3 (ipykernel)",
   "language": "python",
   "name": "python3"
  },
  "language_info": {
   "codemirror_mode": {
    "name": "ipython",
    "version": 3
   },
   "file_extension": ".py",
   "mimetype": "text/x-python",
   "name": "python",
   "nbconvert_exporter": "python",
   "pygments_lexer": "ipython3",
   "version": "3.12.5"
  }
 },
 "nbformat": 4,
 "nbformat_minor": 5
}
