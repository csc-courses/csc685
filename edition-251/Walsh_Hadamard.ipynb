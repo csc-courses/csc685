{
 "cells": [
  {
   "cell_type": "markdown",
   "id": "5a38a5a1-227d-4d18-9a4b-89e7347fa3c1",
   "metadata": {},
   "source": [
    "---\n",
    "\n",
    "# Lesson 4: Walsh-Hadamard and Bernstein&ndash;Vazirani\n",
    "\n",
    "_course: quantum cryptography for beginners\n",
    "<br>date: 30 september 2024\n",
    "<br>author: burton rosenberg_\n",
    "\n",
    "---\n",
    "\n",
    "**This lesson discuses,**\n",
    "\n",
    "- Walsh-Hadamard Transformation\n",
    "- Formula as XOR for the W-H\n",
    "- Walsh basis\n",
    "- Phase Kickback\n",
    "- Bernstein-Vazirani \n",
    "\n",
    "Included in this is some quiskit/python/jupyter examples, and the quiskit documentation.\n",
    "\n"
   ]
  },
  {
   "cell_type": "code",
   "execution_count": 1,
   "id": "667eabc2-ce65-48b5-b989-c963169452ff",
   "metadata": {},
   "outputs": [
    {
     "name": "stdout",
     "output_type": "stream",
     "text": [
      "\n",
      "qiskit version: 1.1.2\n",
      "\n"
     ]
    }
   ],
   "source": [
    "import qiskit\n",
    "from qiskit import QuantumCircuit\n",
    "from qiskit.quantum_info import Statevector, Operator, Pauli \n",
    "from qiskit.visualization import plot_bloch_multivector, plot_bloch_vector\n",
    "from IPython.display import display, Math, HTML\n",
    "import time, math\n",
    "from qiskit.providers.basic_provider import BasicSimulator\n",
    "from qiskit import QuantumRegister, ClassicalRegister\n",
    "from qiskit.circuit import Parameter\n",
    "\n",
    "print(f'\\nqiskit version: {qiskit.version.get_version_info()}\\n')"
   ]
  },
  {
   "cell_type": "markdown",
   "id": "a241694c-3ef4-4d7b-bae7-0b262d9d8b11",
   "metadata": {},
   "source": [
    "### I: Walsh-Hadamard Transformation\n",
    "\n",
    "The Walsh-Hadamard Transformation is a function on qubit spaces (on any vector space) $\\mathcal{H}:Q^n\\rightarrow Q^n$ that\n",
    "can be formed as $\\mathcal{H} = H^{\\otimes n}$. This is a very fascinating transformation. \n",
    "\n",
    "It is an involution,\n",
    "\n",
    "$$\n",
    "\\mathcal{H}\\cdot\\mathcal{H} = H^{\\otimes n}\\cdot H^{\\otimes n} = (H\\cdot H)^{\\otimes n} = \\mathbb{I}^{\\otimes n} = \\mathbb{I}\n",
    "$$\n",
    "\n",
    "The rows and columns are all orthogonal, and the span the space. The coefficients for a general $|x\\rangle$ expressed in the _Walsh basis_, the columns of the matrix, are given by applying the transformation.\n",
    "\n",
    "Note that the Hadamard is the sum of two Pauli matrices, $H=(1/\\sqrt{2})(X+Z)$. This is not a surprise as the Hadamard matrix is Hermitian and the set of Pauli's plus the identity form a four dimensitional basis over the complex numbers for the space of Hermitian matrices. But it is a particularly simple combination. \n",
    "\n",
    "The Hadamard is also Unitary, so we already know it's eigenvalues are from the set $\\{\\,1,-1\\,\\}$ and indeed it has one of each, according to the line of symmetry (+1) or asymetry (-1).\n",
    "\n",
    "References: \n",
    "- [Operator class](https://docs.quantum.ibm.com/api/qiskit/qiskit.quantum_info.Operator)\n",
    "- [Pauli class](https://docs.quantum.ibm.com/api/qiskit/qiskit.quantum_info.Pauli)"
   ]
  },
  {
   "cell_type": "code",
   "execution_count": 2,
   "id": "4ea9cf93-275a-40db-ac35-f6a7cb9624cc",
   "metadata": {},
   "outputs": [
    {
     "data": {
      "text/latex": [
       "$$\n",
       "\n",
       "\\begin{bmatrix}\n",
       "1 & 1  \\\\\n",
       " 1 & -1  \\\\\n",
       " \\end{bmatrix}\n",
       "$$"
      ],
      "text/plain": [
       "<IPython.core.display.Latex object>"
      ]
     },
     "metadata": {},
     "output_type": "display_data"
    },
    {
     "data": {
      "text/latex": [
       "$$\n",
       "\n",
       "\\begin{bmatrix}\n",
       "1 & 1 & 1 & 1  \\\\\n",
       " 1 & -1 & 1 & -1  \\\\\n",
       " 1 & 1 & -1 & -1  \\\\\n",
       " 1 & -1 & -1 & 1  \\\\\n",
       " \\end{bmatrix}\n",
       "$$"
      ],
      "text/plain": [
       "<IPython.core.display.Latex object>"
      ]
     },
     "metadata": {},
     "output_type": "display_data"
    },
    {
     "data": {
      "text/latex": [
       "$$\n",
       "\n",
       "\\begin{bmatrix}\n",
       "1 & 1 & 1 & 1 & 1 & 1 & 1 & 1  \\\\\n",
       " 1 & -1 & 1 & -1 & 1 & -1 & 1 & -1  \\\\\n",
       " 1 & 1 & -1 & -1 & 1 & 1 & -1 & -1  \\\\\n",
       " 1 & -1 & -1 & 1 & 1 & -1 & -1 & 1  \\\\\n",
       " 1 & 1 & 1 & 1 & -1 & -1 & -1 & -1  \\\\\n",
       " 1 & -1 & 1 & -1 & -1 & 1 & -1 & 1  \\\\\n",
       " 1 & 1 & -1 & -1 & -1 & -1 & 1 & 1  \\\\\n",
       " 1 & -1 & -1 & 1 & -1 & 1 & 1 & -1  \\\\\n",
       " \\end{bmatrix}\n",
       "$$"
      ],
      "text/plain": [
       "<IPython.core.display.Latex object>"
      ]
     },
     "metadata": {},
     "output_type": "display_data"
    }
   ],
   "source": [
    "def H_n(n) :\n",
    "    h = Operator(Pauli('X').to_matrix()+Pauli('Z').to_matrix())\n",
    "    h_s = h.copy()\n",
    "    for i in range(n-1):\n",
    "        h_s = h_s.tensor(h)\n",
    "    return h_s\n",
    "\n",
    "d = 3\n",
    "for i in range(d):\n",
    "    display(H_n(i+1).draw('latex'))"
   ]
  },
  {
   "cell_type": "markdown",
   "id": "5629302a-4d93-4b57-aaf3-d0117a1ffd48",
   "metadata": {},
   "source": [
    "\n",
    "\n",
    "### Exercise A\n",
    "\n",
    "Does the following communitive diagram and the universal property of the tensor product prove, using \"abstract nonsense\", that,\n",
    "$$\n",
    "(A\\otimes B)\\cdot(C\\otimes D) = (A\\cdot C)\\otimes(B\\cdot D)\n",
    "$$\n",
    "These diagrams commute,\n",
    "$$\n",
    "\\begin{matrix}\n",
    "V\\times W &\\xrightarrow{\\otimes}&V\\otimes W\\\\\n",
    "& \\\\\n",
    "v,w & \\longrightarrow & v\\otimes w&\\\\\n",
    "\\downarrow & \\circlearrowleft& \\downarrow &\\\\\n",
    "Cv,Dw &\\longrightarrow  &(C\\otimes D)(v\\otimes w) &\\\\\n",
    "\\downarrow &\\circlearrowleft & \\downarrow &\\\\\n",
    "A(Cv),B(Dw) &\\longrightarrow  &(A\\cdot C)\\otimes(B\\cdot D)(v\\otimes w)  &\\\\\n",
    "\\end{matrix}\n",
    "$$"
   ]
  },
  {
   "cell_type": "code",
   "execution_count": 3,
   "id": "29a26f61-c623-4528-9aee-c5bac54971d9",
   "metadata": {},
   "outputs": [],
   "source": [
    "## code here\n"
   ]
  },
  {
   "cell_type": "markdown",
   "id": "063667f7-0ca6-47e2-bf16-77119cd944cf",
   "metadata": {},
   "source": [
    "### II: Plus-Minus hack\n",
    "\n",
    "Ryan O'Donnell in _Revealing XOR-patterns I: Lecture 11 of Quantum Computation at CMU_\n",
    "talks about the plus minus hack. It imprints on state $|x\\rangle$ the value of a boolean function $F(x)$\n",
    "in the sign of the state,\n",
    "$$\n",
    "|x\\rangle\\mapsto (-1)^{F(x)}|x\\rangle\n",
    "$$\n",
    "This is the global state and in this form might not show a consequence. However when applied to general \n",
    "state, a relative sign will appear on otherwise unchanged coefficients.\n",
    "\n",
    "An _ancillary_ qubit is needed. Maybe we have not yet talked about ancillary bits. Since all quantum computation\n",
    "has to be reversable, something like a simple AND cannot be represented as a quantum gate, because AND is not\n",
    "invertible. There are techniques to make AND, and any function, reversable, by adding extra qubits that record \n",
    "the lost information. Since $F(x)$ is boolean, the simplest thing is to add an output qubit and to use and xor\n",
    "to write $F(x)$ onto this qubit. \n",
    "\n",
    "\n",
    "The output xor gives, \n",
    "$$\n",
    "|x,b\\rangle\\mapsto |x, b\\oplus F(x)\\rangle =\n",
    "\\begin{cases}|x, b\\rangle & F(x)=0\\\\\n",
    "|x, X\\,b\\rangle & F(x)=1\n",
    "\\end{cases}\n",
    "$$\n",
    "we apply this with $b$ the minus state, \n",
    "\\begin{eqnarray*}\n",
    "|x,-\\rangle &\\mapsto& \\begin{cases}|x, -\\rangle & F(x)=0\\\\\n",
    "- |x,-\\rangle & F(x)=1\n",
    "\\end{cases} \\\\\n",
    "&=& (-1)^{F(x)}|x,-\\rangle\n",
    "\\end{eqnarray*}\n",
    "This state is not entangled.\n",
    "\n",
    "If the $|b\\rangle$ qubit is an ancillary, rather than leave it in an variable state, it is sometimes\n",
    "possible to \"uncompute\" it, to return it to the input state. \n",
    "\n",
    "$$\n",
    "|x,0\\rangle \\mapsto (-1)^{F(x)}|x,0\\rangle\n",
    "$$\n",
    "\n",
    "Reference: O'Donnell's video [Revealing XOR-patterns I](https://www.youtube.com/watch?v=6TslH7ToFb8).\n"
   ]
  },
  {
   "cell_type": "code",
   "execution_count": 4,
   "id": "0174b979-af46-4e09-87ad-789384b46656",
   "metadata": {},
   "outputs": [
    {
     "data": {
      "image/png": "[encoded data removed]",
      "text/plain": [
       "<Figure size 621.941x284.278 with 1 Axes>"
      ]
     },
     "metadata": {},
     "output_type": "display_data"
    },
    {
     "data": {
      "text/latex": [
       "$$ |000\\rangle$$"
      ],
      "text/plain": [
       "<IPython.core.display.Latex object>"
      ]
     },
     "metadata": {},
     "output_type": "display_data"
    },
    {
     "data": {
      "text/latex": [
       "$$- |010\\rangle$$"
      ],
      "text/plain": [
       "<IPython.core.display.Latex object>"
      ]
     },
     "metadata": {},
     "output_type": "display_data"
    },
    {
     "data": {
      "text/latex": [
       "$$- |100\\rangle$$"
      ],
      "text/plain": [
       "<IPython.core.display.Latex object>"
      ]
     },
     "metadata": {},
     "output_type": "display_data"
    },
    {
     "data": {
      "text/latex": [
       "$$ |110\\rangle$$"
      ],
      "text/plain": [
       "<IPython.core.display.Latex object>"
      ]
     },
     "metadata": {},
     "output_type": "display_data"
    }
   ],
   "source": [
    "qc = QuantumCircuit(3)\n",
    "qc.x(0)\n",
    "qc.h(0)\n",
    "q1_switch = Parameter('q1')\n",
    "q2_switch = Parameter('q2')\n",
    "qc.ry(q1_switch,1)\n",
    "qc.ry(q2_switch,2)\n",
    "qc.cx(1,0)\n",
    "qc.cx(2,0)\n",
    "qc.h(0)\n",
    "qc.x(0)\n",
    "\n",
    "#op = Operator(qc)\n",
    "#display(op.draw('latex'))\n",
    "#qc.measure_all()\n",
    "display(qc.draw('mpl'))\n",
    "\n",
    "params = [\n",
    "    {q1_switch:0,q2_switch:0},\n",
    "    {q1_switch:math.pi,q2_switch:0},\n",
    "    {q1_switch:0,q2_switch:math.pi},\n",
    "    {q1_switch:math.pi,q2_switch:math.pi}\n",
    "]\n",
    "\n",
    "for param in params:\n",
    "    sv = Statevector(qc.assign_parameters(param))\n",
    "    display(sv.draw('latex'))\n"
   ]
  },
  {
   "cell_type": "markdown",
   "id": "8841d4a6-21be-4ddd-a8bd-db888e06df4a",
   "metadata": {},
   "source": [
    "### Exercise B\n",
    "\n",
    "For some $n$ qubits, show the output of the Hadamard transformation on the number $0,1,\\ldots,2^n-1$.\n",
    "\n",
    "Create a python program that gives the columns of the Hadamard matrix using xor products, and compare the result.\n"
   ]
  },
  {
   "cell_type": "code",
   "execution_count": 5,
   "id": "47026373-d4b6-4de2-a193-a15e83cd4de9",
   "metadata": {},
   "outputs": [],
   "source": [
    "### Exercise B\n",
    "\n",
    "\n",
    "\n"
   ]
  },
  {
   "cell_type": "markdown",
   "id": "4344bc13-7952-4ce5-bff7-8880389c6f9d",
   "metadata": {},
   "source": [
    "### Exercise C\n",
    "\n",
    "Is there something for two qubits?\n",
    "$$\n",
    "|x,0\\rangle\\mapsto (i)^{F(x)}|x,0\\rangle\n",
    "$$\n"
   ]
  },
  {
   "cell_type": "code",
   "execution_count": 6,
   "id": "723d16b0-9c13-48c8-a2f9-507ad9e6474b",
   "metadata": {},
   "outputs": [],
   "source": [
    "#### Exercise C\n",
    "\n",
    "\n",
    "\n"
   ]
  },
  {
   "cell_type": "markdown",
   "id": "120b811e-c648-467c-bf5d-b2d50cd88f20",
   "metadata": {},
   "source": [
    "### Exercise D\n",
    "\n",
    "What if the controlled X is replaced with the controlled Z? Is this a useful circuit? (I don't know.)\n"
   ]
  },
  {
   "cell_type": "code",
   "execution_count": 7,
   "id": "bf7e7554-6152-4564-8110-b2aa131cb5f1",
   "metadata": {},
   "outputs": [],
   "source": [
    "### Exercise D\n",
    "\n",
    "\n"
   ]
  },
  {
   "cell_type": "markdown",
   "id": "702b53d8-ff91-4f6d-b873-75e6d1e1e9ee",
   "metadata": {},
   "source": [
    "### III: Bernstein-Vazirani \n",
    "\n",
    "The Walsh-Hadamard transformation combined with the plus-minus hack gives the Bernstein-Vazirani algorithm. \n",
    "\n",
    "__Puzzle:__ Given an oracle for $F_r(x) = r\\odot x$, find $r$.\n",
    "\n",
    "An _oracle_ is the idea that I can ask for $F_r(x)$ for $x$ of my choosing, but I cannot look inside the oracle\n",
    "to find $r$. I have to find $r$ by trying different $x$. In this case, I can read off $r$ bit by bit by using \n",
    "$x=1,2,\\ldots,2^k$.\n",
    "\n",
    "The walsh-hadamard transformation,\n",
    "\n",
    "$$\n",
    "\\mathcal{H} |i\\rangle = \\sum_j (-1)^{i\\cdot j}\\,|j\\rangle\n",
    "$$\n",
    "\n",
    "We construct the oracle with c-not gates that summarize their outputs on the ancillary. When evaluted at all $|j\\rangle. = \\mathcal{H}\\,|0\\rangle$ this creates the state  $\\mathcal{H}\\,|r\\rangle$. Another walsh-hadamard gives state $|r\\rangle$ which is then measured\n",
    "in the computational basis."
   ]
  },
  {
   "cell_type": "code",
   "execution_count": 8,
   "id": "aff7d6d2-12a1-464e-a98c-ae167e4d6e61",
   "metadata": {},
   "outputs": [
    {
     "data": {
      "image/png": "[encoded data removed]",
      "text/plain": [
       "<Figure size 789.163x367.889 with 1 Axes>"
      ]
     },
     "metadata": {},
     "output_type": "display_data"
    },
    {
     "data": {
      "text/latex": [
       "$$ |0011\\rangle$$"
      ],
      "text/plain": [
       "<IPython.core.display.Latex object>"
      ]
     },
     "metadata": {},
     "output_type": "display_data"
    }
   ],
   "source": [
    "\n",
    "def b_v_circuit(n,d):\n",
    "    \n",
    "    qc = QuantumCircuit(n+1)\n",
    "    for i in range(n):\n",
    "        qc.h(i)\n",
    "    qc.x(n)\n",
    "    qc.h(n)\n",
    "    qc.barrier()\n",
    "\n",
    "    i = 0\n",
    "    while d>0:\n",
    "        if d%2==1:\n",
    "            qc.cx(i,3)\n",
    "        i += 1\n",
    "        d //= 2\n",
    "\n",
    "    qc.barrier()\n",
    "    for i in range(n):\n",
    "        qc.h(i)\n",
    "    qc.h(n)\n",
    "    qc.x(n)\n",
    "\n",
    "    return qc\n",
    "\n",
    "qc = b_v_circuit(3,3)\n",
    "sv_2 = Statevector(qc)\n",
    "display(qc.draw('mpl'))\n",
    "display(sv_2.draw('latex'))"
   ]
  },
  {
   "cell_type": "markdown",
   "id": "bbdf7a27-7dd5-4439-a667-83ce1dfa2280",
   "metadata": {},
   "source": [
    "### Exercise E\n",
    "\n",
    "Try different xor patterns and qubits to explore that this is correct.\n",
    "\n",
    "Is the final Hadamard (highest qubit, last applied) necessary?\n"
   ]
  },
  {
   "cell_type": "code",
   "execution_count": 9,
   "id": "eb9b583c-5a52-4931-8cde-74f515ee7872",
   "metadata": {},
   "outputs": [],
   "source": [
    "### Exercise E\n",
    "\n",
    "\n",
    "\n"
   ]
  },
  {
   "cell_type": "markdown",
   "id": "e26da133-209d-4d8c-af95-c33ed628ef37",
   "metadata": {},
   "source": [
    "-----\n",
    "\n",
    "## Answers to Exercises\n",
    "\n",
    "\n",
    "-----"
   ]
  },
  {
   "cell_type": "markdown",
   "id": "bcfb12a2-fe6f-4d76-b380-0605d9f43870",
   "metadata": {},
   "source": [
    "### Answer to Exercise B"
   ]
  },
  {
   "cell_type": "code",
   "execution_count": 10,
   "id": "35dd4a6f-1bfe-4f82-b761-a51b2fa84921",
   "metadata": {},
   "outputs": [
    {
     "name": "stdout",
     "output_type": "stream",
     "text": [
      "0: [1, 1, 1, 1, 1, 1, 1, 1]\n",
      "1: [1, -1, 1, -1, 1, -1, 1, -1]\n",
      "2: [1, 1, -1, -1, 1, 1, -1, -1]\n",
      "3: [1, -1, -1, 1, 1, -1, -1, 1]\n",
      "4: [1, 1, 1, 1, -1, -1, -1, -1]\n",
      "5: [1, -1, 1, -1, -1, 1, -1, 1]\n",
      "6: [1, 1, -1, -1, -1, -1, 1, 1]\n",
      "7: [1, -1, -1, 1, -1, 1, 1, -1]\n"
     ]
    }
   ],
   "source": [
    "def xor_prod(x,y):\n",
    "    t = 0\n",
    "    while (x*y)!=0:\n",
    "        t += (x%2)*(y%2)\n",
    "        x, y = x//2, y//2\n",
    "    return t\n",
    "\n",
    "def walsh_basis(n,x):\n",
    "    d = [1]*n\n",
    "    for i in range(n):\n",
    "        d[i] = (-1)**xor_prod(x,i)\n",
    "    return d\n",
    "\n",
    "n = 8\n",
    "for d in range(n):  \n",
    "    print(f'{d}: {walsh_basis(n,d)}')"
   ]
  },
  {
   "cell_type": "markdown",
   "id": "4555428a-702f-4d41-9cbe-f1905c737dab",
   "metadata": {},
   "source": [
    "### Answer to Exercise C"
   ]
  },
  {
   "cell_type": "code",
   "execution_count": 11,
   "id": "910cf9a5-c022-4586-adef-0c11c2f0d011",
   "metadata": {},
   "outputs": [
    {
     "data": {
      "image/png": "[encoded data removed]",
      "text/plain": [
       "<Figure size 705.552x284.278 with 1 Axes>"
      ]
     },
     "metadata": {},
     "output_type": "display_data"
    },
    {
     "data": {
      "text/plain": [
       "None"
      ]
     },
     "metadata": {},
     "output_type": "display_data"
    },
    {
     "data": {
      "text/latex": [
       "$$ |000\\rangle$$"
      ],
      "text/plain": [
       "<IPython.core.display.Latex object>"
      ]
     },
     "metadata": {},
     "output_type": "display_data"
    },
    {
     "data": {
      "text/latex": [
       "$$- i |010\\rangle$$"
      ],
      "text/plain": [
       "<IPython.core.display.Latex object>"
      ]
     },
     "metadata": {},
     "output_type": "display_data"
    },
    {
     "data": {
      "text/latex": [
       "$$i |100\\rangle$$"
      ],
      "text/plain": [
       "<IPython.core.display.Latex object>"
      ]
     },
     "metadata": {},
     "output_type": "display_data"
    },
    {
     "data": {
      "text/latex": [
       "$$- |110\\rangle$$"
      ],
      "text/plain": [
       "<IPython.core.display.Latex object>"
      ]
     },
     "metadata": {},
     "output_type": "display_data"
    }
   ],
   "source": [
    "x = Parameter('x')\n",
    "y = Parameter('y')\n",
    "\n",
    "qc = QuantumCircuit(3)\n",
    "qc.rx(x,1)\n",
    "qc.rx(y,2)\n",
    "qc.x(0)\n",
    "qc.h(0)\n",
    "qc.cz(1,0)\n",
    "qc.cx(2,0)\n",
    "qc.h(0)\n",
    "qc.cx(1,0)\n",
    "qc.x(0)\n",
    "\n",
    "#op = Operator(qc)\n",
    "#display(op.draw('latex'))\n",
    "display(display(qc.draw('mpl')))\n",
    "\n",
    "params = [\n",
    "    {x:0, y:0},\n",
    "    {x:math.pi, y:0},\n",
    "    {x:0, y:math.pi},\n",
    "    {x:math.pi, y:math.pi}\n",
    "]\n",
    "\n",
    "basic_sim = BasicSimulator()\n",
    "for param in params:\n",
    "    sv = Statevector(qc.assign_parameters(param))\n",
    "    display(sv.draw('latex'))"
   ]
  },
  {
   "cell_type": "code",
   "execution_count": null,
   "id": "a6051450-50a5-451e-bc41-1639ba358459",
   "metadata": {},
   "outputs": [],
   "source": []
  },
  {
   "cell_type": "markdown",
   "id": "fb28f56f-3153-4a07-b2aa-ed740ffb4cc4",
   "metadata": {},
   "source": [
    "### END"
   ]
  },
  {
   "cell_type": "code",
   "execution_count": null,
   "id": "1062ada8-cba7-42eb-bf5d-9322ed6782fd",
   "metadata": {},
   "outputs": [],
   "source": []
  }
 ],
 "metadata": {
  "kernelspec": {
   "display_name": "Python 3 (ipykernel)",
   "language": "python",
   "name": "python3"
  },
  "language_info": {
   "codemirror_mode": {
    "name": "ipython",
    "version": 3
   },
   "file_extension": ".py",
   "mimetype": "text/x-python",
   "name": "python",
   "nbconvert_exporter": "python",
   "pygments_lexer": "ipython3",
   "version": "3.12.5"
  }
 },
 "nbformat": 4,
 "nbformat_minor": 5
}
