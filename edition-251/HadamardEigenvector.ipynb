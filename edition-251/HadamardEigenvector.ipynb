{
 "cells": [
  {
   "cell_type": "markdown",
   "id": "cec672bb-1714-4b5b-a9d1-48514e284877",
   "metadata": {},
   "source": [
    "---\n",
    "\n",
    "## Exercise 5: Eigenvectors of the Hamadard Operator\n",
    "\n",
    "19 October 2024\n",
    "<br>\n",
    "Burton Rosenberg\n",
    "\n",
    "---\n"
   ]
  },
  {
   "cell_type": "code",
   "execution_count": 1,
   "id": "e7d44d11-beb0-4dd6-8057-95ec97589a29",
   "metadata": {},
   "outputs": [
    {
     "name": "stdout",
     "output_type": "stream",
     "text": [
      "\n",
      "qiskit version: 1.1.2\n",
      "\n"
     ]
    }
   ],
   "source": [
    "\n",
    "import qiskit\n",
    "from qiskit import QuantumCircuit\n",
    "from qiskit.quantum_info import Statevector, Operator, Pauli \n",
    "from qiskit.visualization import plot_bloch_multivector, plot_bloch_vector\n",
    "from IPython.display import display, Math, HTML\n",
    "import time, math\n",
    "from qiskit.providers.basic_provider import BasicSimulator\n",
    "from qiskit import QuantumRegister, ClassicalRegister\n",
    "from qiskit.circuit import Parameter\n",
    "\n",
    "print(f'\\nqiskit version: {qiskit.version.get_version_info()}\\n')\n",
    "\n"
   ]
  },
  {
   "cell_type": "markdown",
   "id": "02d77c05-bd90-43ca-81e5-b0f9144e07ea",
   "metadata": {},
   "source": [
    "### An Eigenvector\n",
    "\n",
    "An eigenvector of a linear operator is a non-zero vector fixed by the operator except for size. For instance, an eigenvector $v$ of an operator $M$ satisifes,\n",
    "$$\n",
    "Mv = \\lambda \\,v\n",
    "$$\n",
    "where neither $v$ nor $\\lambda$ are zero. The case of $v$ being zero is a triviality, and the case of $\\lambda$ being zero states that $v$ is in the null space of $M$, which is another matter altogether. (But it is considered an eigenvalue.)\n",
    "\n",
    "The operators we will be concerned with are _unitary_ or _hermetian_. The gates on a quantum computer are unitary. Unitary operators have all their eigenvalues on the unit circle of the complex plane. Measurements are hermetian operators. Hermetian operators have all eigenvalues are real numbers. The Hadamard is both unitayr and hermetian, and therefore can have egienvalues $1$ and $-1$.\n",
    "\n",
    "### Fixed points of the hadamard operator\n",
    "\n",
    "Using geometric intuition we find the fixed vector fo the Hadamard transformation, as a isometry in $\\mathbb{R}^2$.\n",
    "\n",
    "An isometry is either a reflection around an axis going through the origin, or a rotation around the origin. \n",
    "Looking at the Hadamard matrix,\n",
    "$$\n",
    "\\frac{1}{\\sqrt{2}}\n",
    "\\left (\\,\n",
    "\\begin{array}{cc}\n",
    " 1 & 1 \\\\ 1 & -1\n",
    "\\end{array}\n",
    "\\,\\right )\n",
    "$$\n",
    "the operator takes the vector $(1,0)$ to $(1/\\sqrt{2})(1,1)$. As a reflection this would be a refection around the angle\n",
    "bisector of these two vectors, or a line at angle $\\pi/8$ from the x-axis. \n",
    "The operator takes the vector $(0,1)$ to $(1/\\sqrt{2})(1,-1)$ which is consistent with the reflection. Since it is a reflection the\n",
    "determinate should be $-1$, which it is.\n",
    "\n",
    "Using the half-angle formula, \n",
    "$$\n",
    "2 \\cos \\pi/8 = \\sqrt{ 2 + 2\\cos \\pi/4} = \\sqrt{ 2 +\\sqrt{2+ 2\\cos \\pi/2}}= \\sqrt{ 2 +\\sqrt{2}}\n",
    "$$\n",
    "and by $\\cos^2 \\pi/8+\\sin^2\\pi/8=1$ we have,\n",
    "$$\n",
    "2\\sin\\pi/8 =  \\sqrt{ 2 -\\sqrt{2}}\n",
    "$$\n",
    "hence the axis of reflection lies on the vector,\n",
    "\\begin{eqnarray}\n",
    "\\left(\\,\\begin{array}{c}  \\sqrt{ 2 +\\sqrt{2}}\\\\ \\sqrt{ 2 -\\sqrt{2}}\\end{array}\\,\\right ) \n",
    "&\\cong&  \\sqrt{ 2 +\\sqrt{2}}\\,\\left(\\,\\begin{array}{c}   \\sqrt{ 2 +\\sqrt{2}}\\\\ \\sqrt{ 2 -\\sqrt{2}}\\end{array}\\,\\right ) \\\\\n",
    "&=& \\left(\\,\\begin{array}{c}  2 +\\sqrt{2}\\\\ \\sqrt{2}\\end{array}\\,\\right )\\\\\n",
    "&\\cong& \\left(\\,\\begin{array}{c}\\sqrt{2} +1\\\\ 1\\end{array}\\,\\right )\n",
    "\\end{eqnarray}\n",
    "and its orthogonal complement,\n",
    "\n",
    "$$\n",
    "\\left(\\,\\begin{array}{c}1  - \\sqrt{2}  \\\\ 1\\end{array}\\,\\right )\n",
    "$$\n",
    "\n",
    "The fixed vector calculates an eigenvalue of 1,\n",
    "$$\n",
    "\\frac{1}{\\sqrt{2}}\n",
    "\\left (\\,\n",
    "\\begin{array}{cc}\n",
    " 1 & 1 \\\\ 1 & -1\n",
    "\\end{array}\n",
    "\\,\\right )\\; \\left(\\,\\begin{array}{c}\\sqrt{2} +1\\\\ 1\\end{array}\\,\\right ) =\\frac{1}{\\sqrt{2}}\\left(\\,\\begin{array}{c}\\sqrt{2} +2\\\\ \\sqrt{2}\\end{array}\\,\\right ) =\n",
    "\\left(\\,\\begin{array}{c}1+\\sqrt{2} \\\\ 1\\end{array}\\,\\right )\n",
    "$$\n",
    "and the complement calculates an eigenvalue of $-1$,\n",
    "$$\n",
    "\\frac{1}{\\sqrt{2}}\n",
    "\\left (\\,\n",
    "\\begin{array}{cc}\n",
    " 1 & 1 \\\\ 1 & -1\n",
    "\\end{array}\n",
    "\\,\\right )\\; \\left(\\,\\begin{array}{c}1-\\sqrt{2}\\\\ 1\\end{array}\\,\\right ) =\\frac{1}{\\sqrt{2}}\\left(\\,\\begin{array}{c}2 - \\sqrt{2}\\\\ \n",
    "-\\sqrt{2}\\end{array}\\,\\right ) =\n",
    "- \\left(\\,\\begin{array}{c}1-\\sqrt{2} \\\\ 1\\end{array}\\,\\right )\n",
    "$$"
   ]
  },
  {
   "cell_type": "code",
   "execution_count": 2,
   "id": "a2fe71fe-78b9-4af2-8704-42ecc950d1f2",
   "metadata": {},
   "outputs": [
    {
     "data": {
      "text/plain": [
       "'axis of H operator'"
      ]
     },
     "metadata": {},
     "output_type": "display_data"
    },
    {
     "data": {
      "text/latex": [
       "$$2.4142135624 |0\\rangle+ |1\\rangle$$"
      ],
      "text/plain": [
       "<IPython.core.display.Latex object>"
      ]
     },
     "metadata": {},
     "output_type": "display_data"
    },
    {
     "data": {
      "text/plain": [
       "'co-axis of H operator'"
      ]
     },
     "metadata": {},
     "output_type": "display_data"
    },
    {
     "data": {
      "text/latex": [
       "$$-0.4142135624 |0\\rangle+ |1\\rangle$$"
      ],
      "text/plain": [
       "<IPython.core.display.Latex object>"
      ]
     },
     "metadata": {},
     "output_type": "display_data"
    },
    {
     "data": {
      "text/plain": [
       "'H operator'"
      ]
     },
     "metadata": {},
     "output_type": "display_data"
    },
    {
     "data": {
      "text/latex": [
       "$$\n",
       "\n",
       "\\begin{bmatrix}\n",
       "\\frac{\\sqrt{2}}{2} & \\frac{\\sqrt{2}}{2}  \\\\\n",
       " \\frac{\\sqrt{2}}{2} & - \\frac{\\sqrt{2}}{2}  \\\\\n",
       " \\end{bmatrix}\n",
       "$$"
      ],
      "text/plain": [
       "<IPython.core.display.Latex object>"
      ]
     },
     "metadata": {},
     "output_type": "display_data"
    },
    {
     "data": {
      "text/plain": [
       "'H applied to axis'"
      ]
     },
     "metadata": {},
     "output_type": "display_data"
    },
    {
     "data": {
      "text/latex": [
       "$$2.4142135624 |0\\rangle+ |1\\rangle$$"
      ],
      "text/plain": [
       "<IPython.core.display.Latex object>"
      ]
     },
     "metadata": {},
     "output_type": "display_data"
    },
    {
     "data": {
      "text/plain": [
       "'H applied to co-axis'"
      ]
     },
     "metadata": {},
     "output_type": "display_data"
    },
    {
     "data": {
      "text/latex": [
       "$$0.4142135624 |0\\rangle- |1\\rangle$$"
      ],
      "text/plain": [
       "<IPython.core.display.Latex object>"
      ]
     },
     "metadata": {},
     "output_type": "display_data"
    }
   ],
   "source": [
    "\n",
    "h_op = Operator(qiskit.circuit.library.HGate())\n",
    "axis = Statevector([1+math.sqrt(2),1])\n",
    "co_axis = Statevector([1-math.sqrt(2),1])\n",
    "\n",
    "display('axis of H operator',axis.draw('latex'))\n",
    "display('co-axis of H operator',co_axis.draw('latex'))\n",
    "display('H operator',h_op.draw('latex'))\n",
    "\n",
    "display('H applied to axis',axis.evolve(h_op).draw('latex'))\n",
    "display('H applied to co-axis',co_axis.evolve(h_op).draw('latex'))\n"
   ]
  },
  {
   "cell_type": "markdown",
   "id": "afc4adfb-1123-42f1-8d28-02bca8c71762",
   "metadata": {},
   "source": [
    "### Exercise A\n",
    "\n",
    "Find the operator similar $H$ but that exchanges $|i\\rangle$ and $|+\\rangle$. Do this as above by finding the fixed vector and the reflected vector. There are two actions I hav in mind, one with period 4 and one with period 2. For the Hadamard they were related by \n",
    "$$ H=Z R_y(-\\pi/4)= R_y(\\pi/4) Z.$$ \n",
    "Find the relation between the tw actions for this operation.\n"
   ]
  },
  {
   "cell_type": "code",
   "execution_count": 3,
   "id": "0e31a085-1259-495f-ae0c-55852803e4c4",
   "metadata": {},
   "outputs": [],
   "source": [
    "### exercise A\n",
    "\n",
    "\n"
   ]
  },
  {
   "cell_type": "markdown",
   "id": "b65b4b26-18ff-48a9-8c69-7764d26c0153",
   "metadata": {},
   "source": [
    "### Exercise B\n",
    "\n",
    "Find the operator similar $H$ but that exchanges $|i\\rangle$ and $|0\\rangle$. Do this as above by finding the fixed vector and the reflected vector. As above, find the relation between the order 2 rotation bisecting the axis to exchange and the order 4 rotation around a the orthogonal action.\n",
    "\n"
   ]
  },
  {
   "cell_type": "code",
   "execution_count": 4,
   "id": "7ec2c71f-830f-45c8-80e7-9f6400865c12",
   "metadata": {},
   "outputs": [],
   "source": [
    "### exercise B\n",
    "\n",
    "\n"
   ]
  }
 ],
 "metadata": {
  "kernelspec": {
   "display_name": "Python 3 (ipykernel)",
   "language": "python",
   "name": "python3"
  },
  "language_info": {
   "codemirror_mode": {
    "name": "ipython",
    "version": 3
   },
   "file_extension": ".py",
   "mimetype": "text/x-python",
   "name": "python",
   "nbconvert_exporter": "python",
   "pygments_lexer": "ipython3",
   "version": "3.12.5"
  }
 },
 "nbformat": 4,
 "nbformat_minor": 5
}
