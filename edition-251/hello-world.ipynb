{
 "cells": [
  {
   "cell_type": "markdown",
   "id": "f4b987f6-dd3d-4521-a4ad-b6c796baf5b4",
   "metadata": {},
   "source": [
    "## Hello World from Qiskit\n",
    "\n",
    "_course: quantum cyrptography for beginners\n",
    "<br>date: 15 august 2024\n",
    "<br>author: burton rosenberg_\n",
    "\n",
    "This [hello world](https://docs.quantum.ibm.com/guides/hello-world) notebook is a tutorial program from IBM. \n",
    "In it we build a simple two qubit circuit consisting of a Hadamard controling a CNOT, that results in the \n",
    "maximally entangled EPR pair.\n",
    "\n",
    "It assumes you have already [installed qiskit](https://docs.quantum.ibm.com/guides/install-qiskit).\n",
    "\n",
    "The Qiskit package is object oriented. You instantial a `QuantumCircuit` object with a given number of qubits\n",
    "and classical bits and then apply message calls to it that add to the circuit as the next step in the computation. \n",
    "What is added can be an gate, a barrier or a measurement.\n",
    "\n",
    "- [Construct circuits](https://docs.quantum.ibm.com/guides/construct-circuits)\n",
    "\n",
    "It might be helpful to keep in mind the qubit numbering convention,\n",
    "\n",
    "- [Bit-ordering in the Qiskit SDK](https://docs.quantum.ibm.com/guides/bit-ordering)\n",
    "\n",
    "This tutorial measures the outcome using **Observables**. Some information about that is found in,\n",
    "\n",
    "- [Specify observables in the Pauli basis](https://docs.quantum.ibm.com/guides/specify-observables-pauli)\n",
    "- [Overview of operator classess](https://docs.quantum.ibm.com/guides/operators-overview)\n",
    "\n",
    "The result is that for an EPR pair, if one qubit is measured, the output of the other is determined. \n",
    "This results in complete correlation if the two qubits are measured with the same observable.\n",
    "However there is no correlation if they are measure in orthogonal basis.\n",
    "\n"
   ]
  },
  {
   "cell_type": "code",
   "execution_count": 1,
   "id": "48147745-3c5b-4847-95c1-1cda667689b1",
   "metadata": {},
   "outputs": [
    {
     "data": {
      "image/png": "[encoded data removed]",
      "text/plain": [
       "<Figure size 287.294x200.667 with 1 Axes>"
      ]
     },
     "execution_count": 1,
     "metadata": {},
     "output_type": "execute_result"
    }
   ],
   "source": [
    "#\n",
    "# the qiskit hello-world program (see URL below)\n",
    "#\n",
    "# author: bjr\n",
    "# last-update:\n",
    "#     15 aug 2024 -bjr\n",
    "# github: \n",
    "#     https://github.com/csc-courses/csc685.git\n",
    "#\n",
    "# install with https://docs.quantum.ibm.com/guides/install-qiskit\n",
    "# run the simulator version of https://docs.quantum.ibm.com/guides/hello-world\n",
    "#\n",
    "\n",
    "from qiskit import QuantumCircuit\n",
    "from qiskit.quantum_info import SparsePauliOp\n",
    "from qiskit.transpiler.preset_passmanagers import generate_preset_pass_manager\n",
    "from qiskit_ibm_runtime import EstimatorV2 as Estimator\n",
    " \n",
    "# Create a new circuit with two qubits\n",
    "qc = QuantumCircuit(2)\n",
    " \n",
    "# Add a Hadamard gate to qubit 0\n",
    "qc.h(0)\n",
    " \n",
    "# Perform a controlled-X gate on qubit 1, controlled by qubit 0\n",
    "qc.cx(0, 1)\n",
    " \n",
    "# Return a drawing of the circuit using MatPlotLib (\"mpl\"). This is the\n",
    "# last line of the cell, so the drawing appears in the cell output.\n",
    "# Remove the \"mpl\" argument to get a text drawing.\n",
    "qc.draw(\"mpl\")\n"
   ]
  },
  {
   "cell_type": "code",
   "execution_count": 2,
   "id": "944167db-7e1c-4e44-8676-6bfdfb6fca22",
   "metadata": {},
   "outputs": [],
   "source": [
    "# Set up six different observables.\n",
    "from qiskit.quantum_info import SparsePauliOp\n",
    " \n",
    "observables_labels = [\"IZ\", \"IX\", \"ZI\", \"XI\", \"ZZ\", \"XX\"]\n",
    "observables = [SparsePauliOp(label) for label in observables_labels]"
   ]
  },
  {
   "cell_type": "code",
   "execution_count": 3,
   "id": "4bc2018d-67f7-453c-a0b8-8d3fac9ce718",
   "metadata": {},
   "outputs": [
    {
     "name": "stderr",
     "output_type": "stream",
     "text": [
      "/opt/venv/qiskit20/lib/python3.12/site-packages/qiskit_ibm_runtime/fake_provider/fake_backend.py:468: RuntimeWarning: Aer not found, using qiskit.BasicSimulator and no noise.\n",
      "  warnings.warn(\n"
     ]
    }
   ],
   "source": [
    " \n",
    "# Use the following code instead if you want to run on a simulator:\n",
    " \n",
    "from qiskit_ibm_runtime.fake_provider import FakeAlmadenV2\n",
    "backend = FakeAlmadenV2()\n",
    "estimator = Estimator(backend)\n",
    " \n",
    "# Convert to an ISA circuit and layout-mapped observables.\n",
    " \n",
    "pm = generate_preset_pass_manager(backend=backend, optimization_level=1)\n",
    "isa_circuit = pm.run(qc)\n",
    "mapped_observables = [\n",
    "    observable.apply_layout(isa_circuit.layout) for observable in observables\n",
    "]\n",
    " \n",
    "job = estimator.run([(isa_circuit, mapped_observables)])\n",
    "result = job.result()\n",
    " \n",
    "# This is the result of the entire submission.  You submitted one Pub,\n",
    "# so this contains one inner result (and some metadata of its own).\n",
    " \n",
    "job_result = job.result()\n",
    " \n",
    "# This is the result from our single pub, which had five observables,\n",
    "# so contains information on all five.\n",
    " \n",
    "pub_result = job.result()[0]\n"
   ]
  },
  {
   "cell_type": "code",
   "execution_count": 4,
   "id": "38ce2ce6-33eb-43c0-b6e6-985890cfb28f",
   "metadata": {},
   "outputs": [
    {
     "data": {
      "image/png": "[encoded data removed]",
      "text/plain": [
       "<Figure size 640x480 with 1 Axes>"
      ]
     },
     "metadata": {},
     "output_type": "display_data"
    }
   ],
   "source": [
    "# Plot the result\n",
    " \n",
    "from matplotlib import pyplot as plt\n",
    " \n",
    "values = pub_result.data.evs\n",
    " \n",
    "errors = pub_result.data.stds\n",
    " \n",
    "# plotting graph\n",
    "plt.plot(observables_labels, values, '-o')\n",
    "plt.xlabel('Observables')\n",
    "plt.ylabel('Values')\n",
    "plt.show()\n"
   ]
  },
  {
   "cell_type": "markdown",
   "id": "0de0a6f3-dbdf-4769-a67f-872b62a0514d",
   "metadata": {},
   "source": [
    "https://docs.quantum.ibm.com/guides/bit-ordering\n"
   ]
  },
  {
   "cell_type": "code",
   "execution_count": 20,
   "id": "77bd2436-942e-4224-b0b2-879eaa71c63e",
   "metadata": {},
   "outputs": [
    {
     "data": {
      "text/html": [
       "<pre style=\"word-wrap: normal;white-space: pre;background: #fff0;line-height: 1.1;font-family: &quot;Courier New&quot;,Courier,monospace\">        ┌───┐      ░ ┌─┐   \n",
       "   q_0: ┤ H ├──■───░─┤M├───\n",
       "        └───┘┌─┴─┐ ░ └╥┘┌─┐\n",
       "   q_1: ─────┤ X ├─░──╫─┤M├\n",
       "             └───┘ ░  ║ └╥┘\n",
       "meas: 2/══════════════╩══╩═\n",
       "                      0  1 </pre>"
      ],
      "text/plain": [
       "        ┌───┐      ░ ┌─┐   \n",
       "   q_0: ┤ H ├──■───░─┤M├───\n",
       "        └───┘┌─┴─┐ ░ └╥┘┌─┐\n",
       "   q_1: ─────┤ X ├─░──╫─┤M├\n",
       "             └───┘ ░  ║ └╥┘\n",
       "meas: 2/══════════════╩══╩═\n",
       "                      0  1 "
      ]
     },
     "execution_count": 20,
     "metadata": {},
     "output_type": "execute_result"
    }
   ],
   "source": [
    "from qiskit.providers.basic_provider import BasicSimulator\n",
    "from qiskit.visualization import plot_histogram\n",
    "\n",
    "qc = QuantumCircuit(2)\n",
    "qc.h(0)\n",
    "qc.cx(0, 1)\n",
    "qc.measure_all() \n",
    "qc.draw(\"text\")    # or the default with no paramter, or using output=\n"
   ]
  },
  {
   "cell_type": "code",
   "execution_count": 22,
   "id": "aadb2848-2812-496b-be06-596d6f135e20",
   "metadata": {},
   "outputs": [
    {
     "data": {
      "image/png": "[encoded data removed]",
      "text/plain": [
       "<Figure size 640x480 with 1 Axes>"
      ]
     },
     "execution_count": 22,
     "metadata": {},
     "output_type": "execute_result"
    }
   ],
   "source": [
    "\n",
    "backend = BasicSimulator()\n",
    "result = backend.run(qc, shots=5000).result()\n",
    "counts = result.get_counts()\n",
    "plot_histogram(counts)\n"
   ]
  },
  {
   "cell_type": "code",
   "execution_count": null,
   "id": "bc7198cb-5a16-4fcf-986a-ef05e0200040",
   "metadata": {},
   "outputs": [],
   "source": []
  }
 ],
 "metadata": {
  "kernelspec": {
   "display_name": "Python 3 (ipykernel)",
   "language": "python",
   "name": "python3"
  },
  "language_info": {
   "codemirror_mode": {
    "name": "ipython",
    "version": 3
   },
   "file_extension": ".py",
   "mimetype": "text/x-python",
   "name": "python",
   "nbconvert_exporter": "python",
   "pygments_lexer": "ipython3",
   "version": "3.12.5"
  }
 },
 "nbformat": 4,
 "nbformat_minor": 5
}
