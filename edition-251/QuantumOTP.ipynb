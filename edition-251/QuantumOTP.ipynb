{
 "cells": [
  {
   "cell_type": "markdown",
   "id": "320d620d-3477-4872-9b04-f79d37d3606c",
   "metadata": {},
   "source": [
    "---\n",
    "\n",
    "# Quantum One Time Pad\n",
    "\n",
    "_course: quantum cryptography for beginners\n",
    "<br>date: 1 October 2024\n",
    "<br>author: burton rosenberg_\n",
    "\n",
    "----\n"
   ]
  },
  {
   "cell_type": "code",
   "execution_count": 1,
   "id": "0de25382-8df1-448c-a726-8c77fb8d4af6",
   "metadata": {},
   "outputs": [
    {
     "name": "stdout",
     "output_type": "stream",
     "text": [
      "\n",
      "qiskit version: 1.1.2\n",
      "\n"
     ]
    },
    {
     "data": {
      "text/plain": [
       "<qiskit.circuit.instructionset.InstructionSet at 0x12dea0850>"
      ]
     },
     "execution_count": 1,
     "metadata": {},
     "output_type": "execute_result"
    }
   ],
   "source": [
    "\n",
    "import qiskit\n",
    "from qiskit import QuantumCircuit\n",
    "from qiskit.quantum_info import Statevector, Operator, Pauli \n",
    "from qiskit.visualization import plot_bloch_multivector, plot_bloch_vector\n",
    "from IPython.display import display, Math, HTML\n",
    "import time, math\n",
    "from qiskit.providers.basic_provider import BasicSimulator\n",
    "from qiskit import QuantumRegister, ClassicalRegister\n",
    "from qiskit.circuit import Parameter\n",
    "\n",
    "print(f'\\nqiskit version: {qiskit.version.get_version_info()}\\n')\n"
   ]
  },
  {
   "cell_type": "markdown",
   "id": "acfe896f-56b7-4194-a428-7534ca3bd8e2",
   "metadata": {},
   "source": [
    "If i were to encode quantum information is $|0\\rangle, |+\\rangle$, and send it raw through the channel, given a uniform distrbution on the data, I consider reading the data is 3 different ways.\n",
    "\n",
    "- Z basis\n",
    "- X basis\n",
    "- a form of H basis.\n",
    "\n",
    "In the first two, I will get one of the two signals correct all the time, and the other will be noise. This will give me 3/4 win.\n",
    "\n",
    "In the third I will get 0.8535 win.\n"
   ]
  },
  {
   "cell_type": "code",
   "execution_count": 11,
   "id": "0d391b3c-443f-4e77-b19b-90c02c75bd03",
   "metadata": {},
   "outputs": [
    {
     "data": {
      "text/latex": [
       "$$0.3826834324 |0\\rangle-0.9238795325 |1\\rangle$$"
      ],
      "text/plain": [
       "<IPython.core.display.Latex object>"
      ]
     },
     "metadata": {},
     "output_type": "display_data"
    },
    {
     "name": "stdout",
     "output_type": "stream",
     "text": [
      "[0.14644661 0.85355339]\n"
     ]
    },
    {
     "data": {
      "text/latex": [
       "$$0.9238795325 |0\\rangle-0.3826834324 |1\\rangle$$"
      ],
      "text/plain": [
       "<IPython.core.display.Latex object>"
      ]
     },
     "metadata": {},
     "output_type": "display_data"
    },
    {
     "name": "stdout",
     "output_type": "stream",
     "text": [
      "[0.85355339 0.14644661]\n"
     ]
    }
   ],
   "source": [
    "\n",
    "# represent 0 as |0> and 1 as |+>\n",
    "\n",
    "# sending a 0\n",
    "qc = QuantumCircuit(1)\n",
    "qc.ry(-math.pi*(3/4),0)\n",
    "qc.barrier()\n",
    "sv = Statevector(qc)\n",
    "display(sv.draw('latex'))\n",
    "print(sv.probabilities())\n",
    "\n",
    "# sending a 1\n",
    "qc = QuantumCircuit(1)\n",
    "qc.h(0)\n",
    "qc.barrier()\n",
    "qc.ry(-math.pi*(3/4),0)\n",
    "sv = Statevector(qc)\n",
    "display(sv.draw('latex'))\n",
    "print(sv.probabilities())\n"
   ]
  },
  {
   "cell_type": "code",
   "execution_count": null,
   "id": "05e99535-8bbc-484a-93d4-9f6acc3384d8",
   "metadata": {},
   "outputs": [],
   "source": []
  }
 ],
 "metadata": {
  "kernelspec": {
   "display_name": "Python 3 (ipykernel)",
   "language": "python",
   "name": "python3"
  },
  "language_info": {
   "codemirror_mode": {
    "name": "ipython",
    "version": 3
   },
   "file_extension": ".py",
   "mimetype": "text/x-python",
   "name": "python",
   "nbconvert_exporter": "python",
   "pygments_lexer": "ipython3",
   "version": "3.12.5"
  }
 },
 "nbformat": 4,
 "nbformat_minor": 5
}
