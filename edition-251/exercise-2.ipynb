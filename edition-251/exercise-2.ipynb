{
 "cells": [
  {
   "cell_type": "markdown",
   "id": "69660b22-dfab-46dd-8287-e3fdaa46a17f",
   "metadata": {},
   "source": [
    "# Exercise Set 2\n",
    "\n",
    "_course: quantum cryptography for beginners\n",
    "<br>date: 24 august 2024\n",
    "<br>author: burton rosenberg_\n",
    "\n",
    "### Imports\n",
    "\n",
    "Note that you have qiskit 1.0 installed. This is a breaking change from qiskit 0.0; be careful with internet advice.\n"
   ]
  },
  {
   "cell_type": "code",
   "execution_count": 2,
   "id": "5cded258-8ac4-4346-be49-5938ff074ca0",
   "metadata": {},
   "outputs": [
    {
     "name": "stdout",
     "output_type": "stream",
     "text": [
      "\n",
      "qiskit version: 1.1.2\n",
      "\n"
     ]
    }
   ],
   "source": [
    "import qiskit\n",
    "import time, math\n",
    "from qiskit import QuantumCircuit\n",
    "from qiskit.quantum_info import Statevector  \n",
    "from qiskit.visualization import plot_bloch_multivector\n",
    "from qiskit.visualization import plot_bloch_vector\n",
    "\n",
    "print(f'\\nqiskit version: {qiskit.version.get_version_info()}\\n')"
   ]
  },
  {
   "cell_type": "markdown",
   "id": "d239710b-f579-47a6-89bc-c1c23c534fef",
   "metadata": {},
   "source": [
    "## Exercise D:"
   ]
  },
  {
   "cell_type": "markdown",
   "id": "d54a1f11-df73-489c-b03c-c9d4ddfda03a",
   "metadata": {},
   "source": [
    "This is the calculation of the state vector for $|0\\rangle\\otimes|0\\rangle$\n",
    "and as $|00\\rangle$,\n",
    "\\begin{eqnarray*}\n",
    "|00\\rangle \n",
    "&=& \\begin{pmatrix} 1\\\\0\\end{pmatrix} \\,\\otimes\\,  \\begin{pmatrix} 1\\\\0\\end{pmatrix} \\\\\n",
    "&=&  \\begin{pmatrix} 1 \\begin{pmatrix}1\\\\0\\end{pmatrix}\\\\0 \\begin{pmatrix} 1\\\\0\\end{pmatrix}\\end{pmatrix}\n",
    "=\\begin{pmatrix} 1 \\\\0\\\\0\\\\0\\end{pmatrix}\n",
    "\\end{eqnarray*}\n",
    "Calculate the state vectors for $|01\\rangle, |10\\rangle$ and $|11\\rangle$."
   ]
  },
  {
   "cell_type": "markdown",
   "id": "d04deaff-6ccc-41f5-b551-62dcec9ec81c",
   "metadata": {},
   "source": [
    "## Exercise E\n",
    "\n",
    "Prove the formula,\n",
    "$$\n",
    "\\langle a\\otimes b | c\\otimes d\\rangle = \\langle a|c\\rangle\\,\\langle b|d\\rangle\n",
    "$$\n"
   ]
  },
  {
   "cell_type": "markdown",
   "id": "21e52826-0d2d-4ee5-af93-f0f876f2becf",
   "metadata": {},
   "source": [
    "## Exercise F\n",
    "\n",
    "We can calculate the action of the controlled X gate on input $|10\\rangle$,\n",
    "\\begin{eqnarray*}\n",
    "{}^{(\\neg)}X\\,|10\\rangle &=& | 0\\rangle\\langle 0|1\\rangle \\otimes \\mathbb{I}|0\\rangle + |1\\rangle\\langle 1|1\\rangle \\otimes X|0\\rangle\\\\\n",
    "&=& 0\\,(|0\\rangle\\otimes |0\\rangle)+1\\,(|1\\rangle\\otimes|1\\rangle) = |11\\rangle\n",
    "\\end{eqnarray*}\n",
    "do this for the other three possible inputs, $|01\\rangle, |10\\rangle$ and $|11\\rangle$.\n",
    "\n",
    "\n"
   ]
  },
  {
   "cell_type": "markdown",
   "id": "be294ac3-9062-4c9f-8115-260719ce4b87",
   "metadata": {},
   "source": [
    "## Exercise G\n",
    "\n",
    "We have built the controled X gate with the control on the left qubit. Write down the formula for the controlled X gate \n",
    "with the control on the right qubit. Also show the operator matrix. Find the qiskit syntax for building with this gate.\n",
    "\n",
    "\n"
   ]
  },
  {
   "cell_type": "markdown",
   "id": "2ecb1e66-d88d-426c-ac0c-d239f9409e48",
   "metadata": {},
   "source": [
    "## Exercise H\n",
    "\n",
    "We have provided this circuit that prepares the Bell state $\\Phi^+$, "
   ]
  },
  {
   "cell_type": "code",
   "execution_count": 5,
   "id": "11a4e3f1-1a02-4a10-a00f-d307cc510b6a",
   "metadata": {},
   "outputs": [
    {
     "data": {
      "text/html": [
       "<pre style=\"word-wrap: normal;white-space: pre;background: #fff0;line-height: 1.1;font-family: &quot;Courier New&quot;,Courier,monospace\">     ┌───┐     \n",
       "q_0: ┤ H ├──■──\n",
       "     └───┘┌─┴─┐\n",
       "q_1: ─────┤ X ├\n",
       "          └───┘</pre>"
      ],
      "text/plain": [
       "     ┌───┐     \n",
       "q_0: ┤ H ├──■──\n",
       "     └───┘┌─┴─┐\n",
       "q_1: ─────┤ X ├\n",
       "          └───┘"
      ]
     },
     "metadata": {},
     "output_type": "display_data"
    },
    {
     "data": {
      "text/latex": [
       "$$\\frac{\\sqrt{2}}{2} |00\\rangle+\\frac{\\sqrt{2}}{2} |11\\rangle$$"
      ],
      "text/plain": [
       "<IPython.core.display.Latex object>"
      ]
     },
     "metadata": {},
     "output_type": "display_data"
    }
   ],
   "source": [
    "qc = QuantumCircuit(2)\n",
    "qc.h(0)\n",
    "qc.cx(0,1)\n",
    "display(qc.draw('text'))\n",
    "display(Statevector(qc).draw('latex'))"
   ]
  },
  {
   "cell_type": "markdown",
   "id": "4e91ae90-e192-446a-aa07-5bda4b8d36a8",
   "metadata": {},
   "source": [
    "Provide circuits that prepares the other three Bell states, $\\Phi^-, \\Phi^+$ and $\\Phi^-$. "
   ]
  },
  {
   "cell_type": "markdown",
   "id": "1f6755f3-80b5-479d-8c79-aa61214d0f93",
   "metadata": {},
   "source": [
    "## Exercise I\n",
    "\n",
    "Recall the operator,\n",
    "$$\n",
    "H\\otimes H = \\begin{bmatrix}\n",
    "\\frac{1}{2} & \\frac{1}{2} & \\frac{1}{2} & \\frac{1}{2}  \\\\\n",
    " \\frac{1}{2} & - \\frac{1}{2} & \\frac{1}{2} & - \\frac{1}{2}  \\\\\n",
    " \\frac{1}{2} & \\frac{1}{2} & - \\frac{1}{2} & - \\frac{1}{2}  \\\\\n",
    " \\frac{1}{2} & - \\frac{1}{2} & - \\frac{1}{2} & \\frac{1}{2}  \\\\\n",
    " \\end{bmatrix}\n",
    "$$\n",
    "Find the statevectors resulting from each of the four inputs  $||00\\rangle, 01\\rangle, |10\\rangle$ and $|11\\rangle$.\n",
    "\n",
    "Show that the outputs are an orthonormal set, \n",
    "$$\n",
    "\\langle Ha | Hb\\rangle = \\begin{cases} 1& a=b\\\\ 0 &a\\not= b\n",
    "\\end{cases} \\qquad \\text{for } a,b \\in \\{\\,|00\\rangle,|01\\rangle,|10\\rangle,|11\\rangle\\,\\}\n",
    "$$"
   ]
  },
  {
   "cell_type": "markdown",
   "id": "62cf8079-1824-4de5-8315-780d29fb3b53",
   "metadata": {},
   "source": [
    "### End"
   ]
  },
  {
   "cell_type": "code",
   "execution_count": null,
   "id": "bcdeea2b-5795-4025-a1c7-c78e311f622e",
   "metadata": {},
   "outputs": [],
   "source": []
  }
 ],
 "metadata": {
  "kernelspec": {
   "display_name": "Python 3 (ipykernel)",
   "language": "python",
   "name": "python3"
  },
  "language_info": {
   "codemirror_mode": {
    "name": "ipython",
    "version": 3
   },
   "file_extension": ".py",
   "mimetype": "text/x-python",
   "name": "python",
   "nbconvert_exporter": "python",
   "pygments_lexer": "ipython3",
   "version": "3.12.5"
  }
 },
 "nbformat": 4,
 "nbformat_minor": 5
}
