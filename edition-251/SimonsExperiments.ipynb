{
 "cells": [
  {
   "cell_type": "markdown",
   "id": "a11d5826-4901-4bf7-ad1a-085a1978b4a3",
   "metadata": {},
   "source": [
    "---\n",
    "\n",
    "## Simon's Algorithm\n",
    "\n",
    "31 October 2024 (Happy Halloween)\n",
    "<br>\n",
    "Burton Rosenberg\n",
    "\n",
    "---\n"
   ]
  },
  {
   "cell_type": "code",
   "execution_count": 1,
   "id": "5052e495-d3fd-4cc2-8f12-75b5a9446663",
   "metadata": {},
   "outputs": [
    {
     "name": "stdout",
     "output_type": "stream",
     "text": [
      "\n",
      "qiskit version: 1.1.2\n",
      "\n"
     ]
    }
   ],
   "source": [
    "\n",
    "import qiskit\n",
    "from qiskit import QuantumCircuit\n",
    "from qiskit.quantum_info import Statevector, Operator, Pauli \n",
    "from qiskit.visualization import plot_bloch_multivector, plot_bloch_vector\n",
    "from IPython.display import display, Math, HTML\n",
    "import time, math\n",
    "from qiskit.providers.basic_provider import BasicSimulator\n",
    "from qiskit import QuantumRegister, ClassicalRegister\n",
    "from qiskit.circuit import Parameter\n",
    "\n",
    "print(f'\\nqiskit version: {qiskit.version.get_version_info()}\\n')\n",
    "\n"
   ]
  },
  {
   "cell_type": "markdown",
   "id": "546352b2-b16c-415f-882f-9095eec42512",
   "metadata": {},
   "source": [
    "What is the power of a quantum computer? The Bernstein-Vizirani algorithm really shows no advantage. \n",
    "In that algorithm, there was a black box evalutation of $r(x)= \\langle x|r\\rangle$ (over $\\mathbb{F}^n$), \n",
    "and BV could in one query determine $r$. This one query simultaneously evaluated $r(x)$ on all $x$. However,\n",
    "the readout was on $n$ bits, and classically I could evalute $r(x)$ for $n$ specific $x$ reading one bit each\n",
    "evaluation.\n",
    "\n",
    "The Simon's problem is the following. A function $f:\\{\\,0,1\\,\\}^n\\rightarrow\\{\\,0,1\\,\\}^n$ is \n",
    "on of types, \n",
    "\n",
    "- the identity\n",
    "- of the form $\\exists\\, r\\ne 0,\\; \\forall x,x'\\,f(x)=f(x')  \\iff x\\oplus x'=r$.\n",
    "- any other function.\n",
    "  \n",
    "The algorithm is to determine $r$ efficiently if it exists. The case of the identity is $r=0$. Let's promise that $f$\n",
    "is one of the first two forms.\n",
    "\n",
    "Here are two circuits which compute reversibly examples each of one of two classes. "
   ]
  },
  {
   "cell_type": "code",
   "execution_count": 2,
   "id": "9db46f05-ac8e-44a0-adf9-997df86826df",
   "metadata": {},
   "outputs": [
    {
     "data": {
      "text/html": [
       "<p><b>identity function</b>"
      ],
      "text/plain": [
       "<IPython.core.display.HTML object>"
      ]
     },
     "metadata": {},
     "output_type": "display_data"
    },
    {
     "data": {
      "image/png": "[encoded data removed]",
      "text/plain": [
       "<Figure size 538.33x451.5 with 1 Axes>"
      ]
     },
     "metadata": {},
     "output_type": "display_data"
    },
    {
     "data": {
      "text/html": [
       "<p><b>before interference</b>"
      ],
      "text/plain": [
       "<IPython.core.display.HTML object>"
      ]
     },
     "metadata": {},
     "output_type": "display_data"
    },
    {
     "data": {
      "text/latex": [
       "$$\\frac{1}{2} |0000\\rangle+\\frac{1}{2} |0101\\rangle+\\frac{1}{2} |1010\\rangle+\\frac{1}{2} |1111\\rangle$$"
      ],
      "text/plain": [
       "<IPython.core.display.Latex object>"
      ]
     },
     "metadata": {},
     "output_type": "display_data"
    },
    {
     "data": {
      "text/html": [
       "<p><b>after interference</b>"
      ],
      "text/plain": [
       "<IPython.core.display.HTML object>"
      ]
     },
     "metadata": {},
     "output_type": "display_data"
    },
    {
     "data": {
      "text/latex": [
       "$$\\frac{1}{4} |0000\\rangle+\\frac{1}{4} |0001\\rangle+\\frac{1}{4} |0010\\rangle+\\frac{1}{4} |0011\\rangle+\\frac{1}{4} |0100\\rangle- \\frac{1}{4} |0101\\rangle + \\ldots - \\frac{1}{4} |1011\\rangle+\\frac{1}{4} |1100\\rangle- \\frac{1}{4} |1101\\rangle- \\frac{1}{4} |1110\\rangle+\\frac{1}{4} |1111\\rangle$$"
      ],
      "text/plain": [
       "<IPython.core.display.Latex object>"
      ]
     },
     "metadata": {},
     "output_type": "display_data"
    },
    {
     "data": {
      "text/html": [
       "<p><b>Sampling the wave function:</b><br>  {'01': 279, '00': 271, '11': 228, '10': 246}</tt>"
      ],
      "text/plain": [
       "<IPython.core.display.HTML object>"
      ]
     },
     "metadata": {},
     "output_type": "display_data"
    },
    {
     "data": {
      "text/html": [
       "<p><hr><p>"
      ],
      "text/plain": [
       "<IPython.core.display.HTML object>"
      ]
     },
     "metadata": {},
     "output_type": "display_data"
    },
    {
     "data": {
      "text/html": [
       "<p><b>bit projection function</b>"
      ],
      "text/plain": [
       "<IPython.core.display.HTML object>"
      ]
     },
     "metadata": {},
     "output_type": "display_data"
    },
    {
     "data": {
      "image/png": "[encoded data removed]",
      "text/plain": [
       "<Figure size 454.719x451.5 with 1 Axes>"
      ]
     },
     "metadata": {},
     "output_type": "display_data"
    },
    {
     "data": {
      "text/html": [
       "<p><b>before interference</b>"
      ],
      "text/plain": [
       "<IPython.core.display.HTML object>"
      ]
     },
     "metadata": {},
     "output_type": "display_data"
    },
    {
     "data": {
      "text/latex": [
       "$$\\frac{1}{2} |0000\\rangle+\\frac{1}{2} |0010\\rangle+\\frac{1}{2} |0101\\rangle+\\frac{1}{2} |0111\\rangle$$"
      ],
      "text/plain": [
       "<IPython.core.display.Latex object>"
      ]
     },
     "metadata": {},
     "output_type": "display_data"
    },
    {
     "data": {
      "text/html": [
       "<p><b>after interference</b>"
      ],
      "text/plain": [
       "<IPython.core.display.HTML object>"
      ]
     },
     "metadata": {},
     "output_type": "display_data"
    },
    {
     "data": {
      "text/latex": [
       "$$\\frac{1}{2} |0000\\rangle+\\frac{1}{2} |0001\\rangle+\\frac{1}{2} |0100\\rangle- \\frac{1}{2} |0101\\rangle$$"
      ],
      "text/plain": [
       "<IPython.core.display.Latex object>"
      ]
     },
     "metadata": {},
     "output_type": "display_data"
    },
    {
     "data": {
      "text/html": [
       "<p><b>Sampling the wave function:</b><br>  {'01': 491, '00': 533}</tt>"
      ],
      "text/plain": [
       "<IPython.core.display.HTML object>"
      ]
     },
     "metadata": {},
     "output_type": "display_data"
    }
   ],
   "source": [
    "def bit_omit_function(n,omit=-1):\n",
    "    qc = QuantumCircuit(2*n,n)\n",
    "    for i in range(n):\n",
    "        qc.h(i)\n",
    "        if i!=omit:\n",
    "            qc.cx(i,n+i)\n",
    "    sv_before = Statevector(qc)\n",
    "    qc.barrier()\n",
    "    for i in range(n):\n",
    "        qc.h(i)\n",
    "    sv_after = Statevector(qc)\n",
    "    return sv_before,sv_after,qc\n",
    "\n",
    "def get_counts(qc):\n",
    "    n = qc.num_clbits\n",
    "    qc.measure(range(n),range(n))\n",
    "    basic_sim = BasicSimulator()\n",
    "    job = basic_sim.run(qc,shots=1024)\n",
    "    result = job.result()\n",
    "    return result.get_counts()\n",
    "\n",
    "def my_display(sv_b,sv_a,qc,s):\n",
    "    display(HTML(f'<p><b>{s}</b>'),qc.draw('mpl'))\n",
    "    display(HTML('<p><b>before interference</b>'),sv_b.draw('latex'))\n",
    "    display(HTML('<p><b>after interference</b>'),sv_a.draw('latex'))\n",
    "    counts = get_counts(qc)\n",
    "    display(HTML('<p><b>Sampling the wave function:</b><br>  '+ f'{counts}' +'</tt>'))\n",
    "\n",
    "n = 2\n",
    "\n",
    "sv_b,sv_a,qc= bit_omit_function(n)\n",
    "my_display(sv_b,sv_a,qc,'identity function')\n",
    "display(HTML('<p><hr><p>'))\n",
    "sv_b,sv_a,qc= bit_omit_function(n,1)\n",
    "my_display(sv_b,sv_a,qc,'bit projection function')\n"
   ]
  },
  {
   "cell_type": "markdown",
   "id": "f759da5c-e7c3-4192-8a20-938b28d3ef83",
   "metadata": {},
   "source": [
    "Consider a third circuit. This result, by now, you should be able to predict. But I put it here just to have it clear."
   ]
  },
  {
   "cell_type": "code",
   "execution_count": 3,
   "id": "d8c5009b-6d82-4b91-afdb-3964e2a1ab7f",
   "metadata": {},
   "outputs": [
    {
     "data": {
      "text/html": [
       "<p><b>null function</b>"
      ],
      "text/plain": [
       "<IPython.core.display.HTML object>"
      ]
     },
     "metadata": {},
     "output_type": "display_data"
    },
    {
     "data": {
      "image/png": "[encoded data removed]",
      "text/plain": [
       "<Figure size 371.107x451.5 with 1 Axes>"
      ]
     },
     "metadata": {},
     "output_type": "display_data"
    },
    {
     "data": {
      "text/html": [
       "<p><b>before interference</b>"
      ],
      "text/plain": [
       "<IPython.core.display.HTML object>"
      ]
     },
     "metadata": {},
     "output_type": "display_data"
    },
    {
     "data": {
      "text/latex": [
       "$$\\frac{1}{2} |0000\\rangle+\\frac{1}{2} |0001\\rangle+\\frac{1}{2} |0010\\rangle+\\frac{1}{2} |0011\\rangle$$"
      ],
      "text/plain": [
       "<IPython.core.display.Latex object>"
      ]
     },
     "metadata": {},
     "output_type": "display_data"
    },
    {
     "data": {
      "text/html": [
       "<p><b>after interference</b>"
      ],
      "text/plain": [
       "<IPython.core.display.HTML object>"
      ]
     },
     "metadata": {},
     "output_type": "display_data"
    },
    {
     "data": {
      "text/latex": [
       "$$ |0000\\rangle$$"
      ],
      "text/plain": [
       "<IPython.core.display.Latex object>"
      ]
     },
     "metadata": {},
     "output_type": "display_data"
    },
    {
     "data": {
      "text/html": [
       "<p><b>Sampling the wave function:</b><br>  {'00': 1024}</tt>"
      ],
      "text/plain": [
       "<IPython.core.display.HTML object>"
      ]
     },
     "metadata": {},
     "output_type": "display_data"
    }
   ],
   "source": [
    "def null_function(n,omit=-1):\n",
    "    qc = QuantumCircuit(2*n,n)\n",
    "    for i in range(n):\n",
    "        qc.h(i)\n",
    "    sv_before = Statevector(qc)\n",
    "    qc.barrier()\n",
    "    for i in range(n):\n",
    "        qc.h(i)\n",
    "    sv_after = Statevector(qc)\n",
    "    return sv_before,sv_after,qc\n",
    "\n",
    "n = 2 \n",
    "sv_b,sv_a,qc= null_function(n)\n",
    "my_display(sv_b,sv_a,qc,'null function')"
   ]
  },
  {
   "cell_type": "markdown",
   "id": "64d2b87b-8eb8-4baa-9842-1ff6b03df0f1",
   "metadata": {},
   "source": [
    "### Discussion\n",
    "\n",
    "There are three circuits. One way to explain the result of the third circuit is to note $H\\circ H=I$ and the tensor properties, to consider the result happening because the Hadamards cancel.\n",
    "\n",
    "But why do they not cancel in the first and second circuits?\n",
    "\n",
    "Instead, take the point of view that the Hadamard interferes the super-imposed calculations. In the third case there is cancelation of all but the $|00\\ldots 0\\rangle$ state. If the second circuit, the interference is completely ruined, so that all $2^n$ modes appear, but with postive and negative signs. \n",
    "\n",
    "And in the third case so interference occurs. Therefore immediately we see the posiblity sampling and statistically distinguishing between these two cases, and perhaps finding $r$.\n",
    "\n",
    "And this is what Simon does, by post-processing the samples.\n",
    "\n",
    "The statement is, when \n",
    "$$f_r(|x\\,0^n\\rangle\\mapsto |y,f_r(x)\\rangle$$ \n",
    "satifies the Simon Promise, and is not the identity, $r\\ne 0$, then $\\langle y|r\\rangle = 0 $ is an identity.\n",
    "\n",
    "If $f_r$ is the identity, $r=0$, only for $s=0$ is $\\langle y|s\\rangle=0$ an identity.\n",
    "\n",
    "### Conclusion\n",
    "\n",
    "We shall bruit force search of such $r$. But Simon notes that linear algebra can find a non-zero $r$ in the case $r=0$ with\n",
    "only $O(n\\log n)$ samples from the wave function. And in the case $r=0$, in that many samples enough outputs have been to \n",
    "span the $n$ dimensional space, proof postive that only $r=0$ is a solution.\n",
    "\n",
    "Classically, it is a little easier to reason with a more broad Simon's Promise: either there is an $r\\not =0$ such that\n",
    "$f(x)=f(x') \\iff x\\oplus x'=r$ or $f$ is a permutation. For Simon's algorithm it does not mater that $f$ is a permutation \n",
    "rather than *the* identity permutation. In the case of a classical algorithm, we are given $f$ as an oracle with cost $O(1)$\n",
    "for each query. \n",
    "\n",
    "In that case the function is not a permutation, it will take about an expected $O(\\sqrt{2^n})$ queries to the oracle\n",
    "to have a high probability of finding $x$ and $x'$ such that $f(x)=f(x')$.\n",
    "\n",
    "In the case the function is a permutation, it will not be until $2^{n-1}$ queries are made to the oracle that \n",
    "we can be entirely sure that the function is a permutation.\n",
    "\n",
    "### Subroutine Library\n",
    "\n",
    "These are some routines that might be helpful in solving the exercises.\n"
   ]
  },
  {
   "cell_type": "code",
   "execution_count": 4,
   "id": "34fbe5ea-69c5-4a89-93e8-6064bbba137e",
   "metadata": {},
   "outputs": [],
   "source": [
    "import itertools\n",
    "\n",
    "def enum_01_gen(n):\n",
    "    assert n>0\n",
    "    t = []\n",
    "    for i in itertools.product(range(2),repeat=n):\n",
    "        yield ''.join(list(map(str,i)))\n",
    "\n",
    "def e_string(n,i):\n",
    "    return ''.join(['0'*i,'1','0'*(n-i-1)])\n",
    "\n",
    "def xor_string(s,t):\n",
    "    assert len(s)==len(t)\n",
    "    r = ''\n",
    "    for a,b in zip(s,t):\n",
    "        c = '0'\n",
    "        if a!=b:\n",
    "            c = '1'\n",
    "        r = c+r\n",
    "    return r\n",
    "\n",
    "def inner_product_strings(s,t):\n",
    "    \"\"\"\n",
    "    returns the F_2^n inner product of s and t, where s and t are\n",
    "    length n strings over the character set '0', '1'\n",
    "    \"\"\"\n",
    "    assert len(s)==len(t)\n",
    "    count = 0\n",
    "    for a,b in zip(s,t):\n",
    "        if a=='1' and b=='1':\n",
    "            count += 1\n",
    "    return count%2\n",
    "\n",
    "def check_results_exhautive(s, counts):\n",
    "    n = len(s)\n",
    "    for y in enum_01_gen(n):\n",
    "        b = inner_product_strings(y,s)\n",
    "        if b==0 and y in counts:\n",
    "            continue\n",
    "        if b==1 and y not in counts:\n",
    "            continue\n",
    "        return False\n",
    "    return True\n",
    "\n",
    "\n",
    "test_library = False\n",
    "\n",
    "if test_library:\n",
    "    for i, s in enumerate(enum_01_gen(3)):\n",
    "        print(i, s)\n",
    "    n = 4\n",
    "    for i in range(n):\n",
    "        print(i, e_string(n,i))\n",
    "    n = 3\n",
    "    for i in range (n):\n",
    "        for j in range (n):\n",
    "            print(xor_string(e_string(n,i),e_string(n,j)))"
   ]
  },
  {
   "cell_type": "markdown",
   "id": "c181e228-e148-486c-a062-42ddba835279",
   "metadata": {},
   "source": [
    "### Exercise A\n",
    "\n",
    "Verify this for the two circuits we have built:\n",
    "\n",
    "- The circuit which copies every bit to the output,\n",
    "- The circuit which copies all but one bit to the output.\n",
    "\n",
    "Let $Y$ be the probably space of the measurements of the top $n$ qubits.\n",
    "\n",
    "- In the first circuit for every $s$ except $s=0$ there is a $y\\in Y,$ such that $\\langle y|s\\rangle\\not=0$.\n",
    "- In the second cicuit, besides $s=0$ there is exactly one other $s$ such that $\\forall \\,y\\in Y,\\,\\langle y|s\\rangle=0$.\n",
    "- And in the case of the second circuit, this unique $s$ is such that $x\\oplus x'=s$ exactly when $f(x)=f(x')$.\n",
    "\n"
   ]
  },
  {
   "cell_type": "code",
   "execution_count": 5,
   "id": "13f04280-1485-4baf-aed5-c537e456eed4",
   "metadata": {},
   "outputs": [],
   "source": [
    "# answer to exercise A\n",
    "\n",
    "\n",
    "            \n"
   ]
  },
  {
   "cell_type": "markdown",
   "id": "22c6ea02-2b4d-484f-886a-13c69b599264",
   "metadata": {},
   "source": [
    "### Exercise B\n",
    "\n",
    "We have one Simon's Promise map. We look for another. Devise a map that maps 2-to-1 on the space and has an $r$ with Hamming weight of 2 (has exactly two 1's).\n",
    "\n",
    "Predict which $s$ is is perpendictular to exactly the measured outputs, $y$. Then test this.\n",
    "\n",
    "That is, check for your predicted $s$,\n",
    "$$\n",
    "\\langle s|y\\rangle= \\begin{cases} 0 & y\\in Y\\\\\n",
    "1 & y \\not\\in Y\n",
    "\\end{cases}\n",
    "$$\n",
    "\n",
    "If you wish, prove for this circuit $s$ is unique among non-zero vectors that satisfies this condition."
   ]
  },
  {
   "cell_type": "code",
   "execution_count": 6,
   "id": "168ac9f6-0286-4010-9a34-ba21f2473fd6",
   "metadata": {},
   "outputs": [
    {
     "ename": "NameError",
     "evalue": "name 'k' is not defined",
     "output_type": "error",
     "traceback": [
      "\u001b[0;31m---------------------------------------------------------------------------\u001b[0m",
      "\u001b[0;31mNameError\u001b[0m                                 Traceback (most recent call last)",
      "Cell \u001b[0;32mIn[6], line 21\u001b[0m\n\u001b[1;32m     18\u001b[0m     \u001b[38;5;28;01mreturn\u001b[39;00m sv_before,sv_after,qc\n\u001b[1;32m     20\u001b[0m n, a, b \u001b[38;5;241m=\u001b[39m \u001b[38;5;241m4\u001b[39m, \u001b[38;5;241m0\u001b[39m, \u001b[38;5;241m1\u001b[39m\n\u001b[0;32m---> 21\u001b[0m sv_b, sv_a, qc \u001b[38;5;241m=\u001b[39m \u001b[43mtwo_xor_function\u001b[49m\u001b[43m(\u001b[49m\u001b[43mn\u001b[49m\u001b[43m,\u001b[49m\u001b[43ma\u001b[49m\u001b[43m,\u001b[49m\u001b[43mb\u001b[49m\u001b[43m)\u001b[49m\n\u001b[1;32m     22\u001b[0m display(qc\u001b[38;5;241m.\u001b[39mdraw(\u001b[38;5;124m'\u001b[39m\u001b[38;5;124mmpl\u001b[39m\u001b[38;5;124m'\u001b[39m))\n\u001b[1;32m     23\u001b[0m counts \u001b[38;5;241m=\u001b[39m get_counts(qc)\n",
      "Cell \u001b[0;32mIn[6], line 4\u001b[0m, in \u001b[0;36mtwo_xor_function\u001b[0;34m(n, a, b)\u001b[0m\n\u001b[1;32m      3\u001b[0m \u001b[38;5;28;01mdef\u001b[39;00m \u001b[38;5;21mtwo_xor_function\u001b[39m(n,a,b):\n\u001b[0;32m----> 4\u001b[0m     \u001b[38;5;28;01massert\u001b[39;00m \u001b[43mk\u001b[49m\u001b[38;5;241m!=\u001b[39mj\n\u001b[1;32m      5\u001b[0m     qc \u001b[38;5;241m=\u001b[39m QuantumCircuit(\u001b[38;5;241m2\u001b[39m\u001b[38;5;241m*\u001b[39mn,n)\n\u001b[1;32m      6\u001b[0m     \u001b[38;5;28;01mfor\u001b[39;00m i \u001b[38;5;129;01min\u001b[39;00m \u001b[38;5;28mrange\u001b[39m(n):\n",
      "\u001b[0;31mNameError\u001b[0m: name 'k' is not defined"
     ]
    }
   ],
   "source": [
    "# answer to exercise B\n",
    "\n",
    "def two_xor_function(n,a,b):\n",
    "    assert k!=j\n",
    "    qc = QuantumCircuit(2*n,n)\n",
    "    for i in range(n):\n",
    "        qc.h(i)\n",
    "\n",
    "    \n",
    "    # code here\n",
    "\n",
    "    \n",
    "    sv_before = Statevector(qc)\n",
    "    qc.barrier()\n",
    "    for i in range(n):\n",
    "        qc.h(i)\n",
    "    sv_after = Statevector(qc)\n",
    "    return sv_before,sv_after,qc\n",
    "\n",
    "n, a, b = 4, 0, 1\n",
    "sv_b, sv_a, qc = two_xor_function(n,a,b)\n",
    "display(qc.draw('mpl'))\n",
    "counts = get_counts(qc)\n",
    "print(f'j: {j}, k: {k},\\n\\tcounts: {counts}')\n",
    "s = '0011'\n",
    "print(f'checking against vector {s}: {check_results_exhautive(s, counts)}')\n",
    "\n"
   ]
  },
  {
   "cell_type": "markdown",
   "id": "7397af9f-79a9-480b-8eb6-9db594ebccb2",
   "metadata": {},
   "source": [
    "### Exercise C\n",
    "\n",
    "As Exercise B, but for $s$ of Hamming weight 3, that is, having exacly 3 ones.\n"
   ]
  },
  {
   "cell_type": "code",
   "execution_count": 7,
   "id": "8b2d5256-8826-4fdf-b1f4-630ce9f655b0",
   "metadata": {},
   "outputs": [
    {
     "data": {
      "image/png": "[encoded data removed]",
      "text/plain": [
       "<Figure size 371.107x953.167 with 1 Axes>"
      ]
     },
     "metadata": {},
     "output_type": "display_data"
    },
    {
     "name": "stdout",
     "output_type": "stream",
     "text": [
      "a: 0, b: 1, c: 2,\n",
      "\tcounts: {'00000': 1024}\n",
      "checking against vector 00111: False\n"
     ]
    }
   ],
   "source": [
    "# Answer to exercise C\n",
    "\n",
    "# for weight 3 it is (a,b,c)->(a+c, b+c, 0)\n",
    "\n",
    "def three_xor_function(n,a,b,c):\n",
    "    qc = QuantumCircuit(2*n,n)\n",
    "    for i in range(n):\n",
    "        qc.h(i)\n",
    "\n",
    "    \n",
    "    # code here\n",
    "\n",
    "\n",
    "    sv_before = Statevector(qc)\n",
    "    qc.barrier()\n",
    "    for i in range(n):\n",
    "        qc.h(i)\n",
    "    sv_after = Statevector(qc)\n",
    "    return sv_before,sv_after,qc\n",
    "\n",
    "n, a, b, c = 5, 0, 1, 2\n",
    "sv_b, sv_a, qc = three_xor_function(n,a,b,c)\n",
    "display(qc.draw('mpl'))\n",
    "counts = get_counts(qc)\n",
    "print(f'a: {a}, b: {b}, c: {c},\\n\\tcounts: {counts}')\n",
    "s = '00111'\n",
    "print(f'checking against vector {s}: {check_results_exhautive(s, counts)}')\n"
   ]
  },
  {
   "cell_type": "markdown",
   "id": "602e861f-722d-4554-97f2-fa4676ecf2ea",
   "metadata": {},
   "source": [
    "### Exercise D\n",
    "\n",
    "What is the construction for an arbitrary $s$?\n"
   ]
  },
  {
   "cell_type": "markdown",
   "id": "2991eecb-9eec-4dba-8b86-5c475e41383a",
   "metadata": {},
   "source": [
    "#### Write your answer in math:\n",
    "\n",
    "$$\n",
    "i\\hbar \\frac{d}{dt}|\\Psi\\rangle = \\hat{H}|\\Psi\\rangle\n",
    "$$\n",
    "\n",
    "#### Code your answer in python:"
   ]
  },
  {
   "cell_type": "code",
   "execution_count": null,
   "id": "a798230f-261b-4147-a09b-6b9c0512d336",
   "metadata": {},
   "outputs": [],
   "source": [
    "#### code your answer in python\n",
    "\n"
   ]
  },
  {
   "cell_type": "code",
   "execution_count": null,
   "id": "87e97022-d1e3-472b-a4b7-d962d8083a92",
   "metadata": {},
   "outputs": [],
   "source": []
  },
  {
   "cell_type": "markdown",
   "id": "23c474f5-7858-4936-a8ae-c785e267bf13",
   "metadata": {},
   "source": [
    "---\n",
    "### END\n",
    "----"
   ]
  }
 ],
 "metadata": {
  "kernelspec": {
   "display_name": "Python 3 (ipykernel)",
   "language": "python",
   "name": "python3"
  },
  "language_info": {
   "codemirror_mode": {
    "name": "ipython",
    "version": 3
   },
   "file_extension": ".py",
   "mimetype": "text/x-python",
   "name": "python",
   "nbconvert_exporter": "python",
   "pygments_lexer": "ipython3",
   "version": "3.12.5"
  }
 },
 "nbformat": 4,
 "nbformat_minor": 5
}
