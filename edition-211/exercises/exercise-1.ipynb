{
 "cells": [
  {
   "cell_type": "markdown",
   "metadata": {},
   "source": [
    "# Exercise 1\n",
    "\n",
    "\n",
    "_course: quantum cyrptography for beginners\n",
    "<br>date: 23 august 2020\n",
    "<br>author: burton rosenberg_\n",
    "\n",
    "In this exercise we look at three quantum gates: X, H and CNOT.\n"
   ]
  },
  {
   "cell_type": "markdown",
   "metadata": {},
   "source": [
    "## Installation\n",
    "\n",
    "In order to bring this to your computer, you must install [Anaconda](https://docs.anaconda.com/anaconda/install/), which will bring you,\n",
    "\n",
    "- Python 3 and a large number of scientific pages such has numpy,\n",
    "- Jupyter, the scientific notebook which runs in your browser, and makes and executes pages like this,\n",
    "- Conda, a package management system, including the ability to have virtual python environments.\n",
    "\n",
    "Then you will need the [qiskit package](https://qiskit.org/documentation/install.html). Qiskit is installed with pip, rather than conda.\n",
    "\n",
    "A great walk-through is [Episode 2](https://www.youtube.com/watch?v=M4EkW4VwhcI&vl=en-US) of Qiskit live, with Abraham Asfaw. Note that his walk-through does not create a qiskit conda environment, as described in the qiskit installation documentation. Either seems fine.\n"
   ]
  },
  {
   "cell_type": "code",
   "execution_count": 1,
   "metadata": {},
   "outputs": [
    {
     "data": {
      "text/plain": [
       "{'qiskit-terra': '0.15.1',\n",
       " 'qiskit-aer': '0.6.1',\n",
       " 'qiskit-ignis': '0.4.0',\n",
       " 'qiskit-ibmq-provider': '0.8.0',\n",
       " 'qiskit-aqua': '0.7.5',\n",
       " 'qiskit': '0.20.0'}"
      ]
     },
     "execution_count": 1,
     "metadata": {},
     "output_type": "execute_result"
    }
   ],
   "source": [
    "\n",
    "import qiskit\n",
    "import time, math\n",
    "\n",
    "from qiskit import QuantumCircuit, execute, Aer, IBMQ\n",
    "from qiskit.compiler import transpile, assemble\n",
    "from qiskit.tools.jupyter import *\n",
    "from qiskit.visualization import *\n",
    "from qiskit.providers.jobstatus import JOB_FINAL_STATES, JobStatus\n",
    "from qiskit import QuantumCircuit, QuantumRegister, ClassicalRegister, execute, Aer\n",
    "\n",
    "qiskit.__qiskit_version__"
   ]
  },
  {
   "cell_type": "markdown",
   "metadata": {},
   "source": [
    "### Loading your account and listing backends\n",
    "\n",
    "You need to enroll in the IBM Quantum Experience and get a token to access the API. In the following code, you only need to run load_or_save_IBMQ_account once with the token. Then it will be saved in your home directory.\n",
    "\n",
    "You can list the machines (backends) that you have access to."
   ]
  },
  {
   "cell_type": "code",
   "execution_count": 2,
   "metadata": {},
   "outputs": [
    {
     "name": "stderr",
     "output_type": "stream",
     "text": [
      "/Users/ojo/anaconda3/lib/python3.6/site-packages/qiskit/providers/ibmq/ibmqfactory.py:192: UserWarning: Timestamps in IBMQ backend properties, jobs, and job results are all now in local time instead of UTC.\n",
      "  warnings.warn('Timestamps in IBMQ backend properties, jobs, and job results '\n"
     ]
    },
    {
     "name": "stdout",
     "output_type": "stream",
     "text": [
      "backends available:\n",
      "\tibmq_qasm_simulator, pending jobs:0\n",
      "\tibmqx2, pending jobs:5\n",
      "\tibmq_16_melbourne, pending jobs:19\n",
      "\tibmq_vigo, pending jobs:86\n",
      "\tibmq_ourense, pending jobs:214\n",
      "\tibmq_valencia, pending jobs:26\n",
      "\tibmq_london, pending jobs:96\n",
      "\tibmq_burlington, pending jobs:36\n",
      "\tibmq_essex, pending jobs:12\n",
      "\tibmq_armonk, pending jobs:0\n",
      "\tibmq_santiago, pending jobs:21\n"
     ]
    }
   ],
   "source": [
    "\n",
    "args_g = []\n",
    "\n",
    "# your api token from IBM, first time run.\n",
    "# after that None is good\n",
    "\n",
    "#api_token = 'abcdefghijklmnopqrstuvwxyz'\n",
    "api_token = None \n",
    "\n",
    "def load_or_save_IBMQ_account(api_token=None):\n",
    "    global args_g\n",
    "    if api_token:\n",
    "        # only needs to be done once\n",
    "        # then is stored in e.g. ~/.qistkit/qiskitrc\n",
    "        IBMQ.save_account(api_token)\n",
    "    provider = IBMQ.load_account()\n",
    "    return provider\n",
    "\n",
    "def list_backends(provider):\n",
    "    global args_g\n",
    "    backends = provider.backends()\n",
    "    print('backends available:')\n",
    "    for be in backends:\n",
    "        st = be.status()\n",
    "        if st.operational:\n",
    "            print(f'\\t{be.name()}, pending jobs:{st.pending_jobs}')\n",
    "\n",
    "            \n",
    "def run_quantum_circuit_on_backend(quantum_circuit,provider,backend):\n",
    "    backend = provider.get_backend(backend)\n",
    "    qobj = assemble(transpile(quantum_circuit, backend=backend), backend=backend)\n",
    "    job = backend.run(qobj)\n",
    "    return job\n",
    "\n",
    "\n",
    "def wait_for_job(backend, job, wait_interval=5):\n",
    "    backend = provider.get_backend(backend)\n",
    "    retrieved_job = backend.retrieve_job(job.job_id())\n",
    "    start_time = time.time()\n",
    "    job_status = job.status()\n",
    "    while job_status not in JOB_FINAL_STATES:\n",
    "        print(f'Status @ {time.time() - start_time:0.0f} s: {job_status.name},'\n",
    "              f' est. queue position: {job.queue_position()}')\n",
    "        time.sleep(wait_interval)\n",
    "        job_status = job.status()\n",
    "\n",
    "\n",
    "provider = load_or_save_IBMQ_account(api_token)\n",
    "list_backends(provider)"
   ]
  },
  {
   "cell_type": "code",
   "execution_count": 3,
   "metadata": {},
   "outputs": [],
   "source": [
    "# choose your backend\n",
    "\n",
    "backend = 'ibmq_qasm_simulator'\n",
    "#backend = 'ibmq_armonk'\n",
    "#backend = 'ibmq_vigo'\n",
    "#backend = 'ibmq_london'\n",
    "\n",
    "# and so forth ... chose from the results given by provider.backends()"
   ]
  },
  {
   "cell_type": "markdown",
   "metadata": {},
   "source": [
    "## Quantum Circuits, Quantum Gates"
   ]
  },
  {
   "cell_type": "markdown",
   "metadata": {},
   "source": [
    "### H: The Hadamard Gate\n",
    "\n",
    "Quantum computation in the model we are considering, is the construction of quantum circuits out of quantum gates. The inputs and output to the gates a quantum bits, called qubits. \n",
    "\n",
    "It is helpful to be familiar with classical bits and digital logic gates. Those gates implement the logical functions of and, or and not. These are the operations in a boolean algebra where the numbers are True and False, and the operations are and, or a not. All classical computers are built from those basic gates combined over a billion times in billions of ways.\n",
    "\n",
    "Quantum computation takes this as a model idea, but uses quantum bits, or qubits, and quantum gates, that are created by developing a Hamiltonian (not the Broadway Play) around the qubit letting it evolve by Schödinger's equation.\n",
    "\n",
    "The first gate we shall learn is the H gate, short for Hadamard Gate, named after Jaques Hadamard (1865&ndash;1963) a French mathematcian that briefly taught at Columbia University in New York City. \n",
    "\n",
    "Th gate takes one qubit input and gives a one qubit output that is a superposition of two states &mdash; it is both true and false at the same time. It is a good starting point for thinking about and understanding the quantum phenomenon of superposition.\n",
    "\n",
    "Classically, a bit is either 0 or 1. What explains quantum behavior best is that a vector of possibilities can be established, and unless measured, the quantum bit can evolve simultaneously along each possibility, and the outcomes of the computation are not only values, but probabilities of obtaining those values, when the qubit is measured.\n",
    "\n",
    "Measurement will provide information to a world that can only understand classical information, and hence once measured, and the qubit decides in retrospect which quantum superposed path to reveal to the world, all other pathes become an historical untruth. There is no way of knowing anything about those other paths. The veil between the quantum world and the classical world is a Rule of Nature, and we cannot break from this rule.\n",
    "\n",
    "Formally, the state of a qubit is a vector in a complex space of dimension two. One dimension is called $|0\\rangle$, and the other $|1\\rangle$. The Bloch Sphere depicts one as up and the other down, and when realized as, say the spin on an electron (a Fermion), one is \"up\" and the other \"down\".\n",
    "\n",
    "Despite the suggestion that up and down are not orthgonal (at right angles), but opposite, up and down are, as vectors in the complex vector space of dimention two, $\\cal{C}^2$, orthogonal. So the plus state, given by the Hadamard gate acting on a $|0\\rangle$, gives the minus state when acting on a $|1\\rangle$.\n"
   ]
  },
  {
   "cell_type": "code",
   "execution_count": 4,
   "metadata": {},
   "outputs": [
    {
     "name": "stdout",
     "output_type": "stream",
     "text": [
      "\n",
      "-------- CIRCUIT ---------\n",
      "      ┌───┐┌─┐\n",
      "q0_0: ┤ H ├┤M├\n",
      "      └───┘└╥┘\n",
      "c0: 1/══════╩═\n",
      "            0 \n",
      "-------------------------\n",
      "\n",
      "results: waiting for results from backend ibmq_qasm_simulator ...\n",
      "Status @ 0 s: VALIDATING, est. queue position: None\n",
      "results: {'0': 517, '1': 507}\n"
     ]
    }
   ],
   "source": [
    "\n",
    "def make_a_plus_state():\n",
    "    # make the circuit\n",
    "    q = QuantumRegister(1)\n",
    "    c = ClassicalRegister(1)\n",
    "    quantum_circuit = QuantumCircuit(q, c)\n",
    "    quantum_circuit.h(q)\n",
    "    quantum_circuit.measure(q, c)\n",
    "    print('\\n-------- CIRCUIT ---------')\n",
    "    print(quantum_circuit.draw(output='text'))\n",
    "    print('-------------------------\\n')\n",
    "    return quantum_circuit        \n",
    "# our first circuit, comprising of a single H gate and a measurement\n",
    "\n",
    "quantum_circuit = make_a_plus_state()\n",
    "\n",
    "job = run_quantum_circuit_on_backend(quantum_circuit,provider,backend)\n",
    "print(f'results: waiting for results from backend {backend} ...')\n",
    "wait_for_job(backend, job)\n",
    "result = job.result()\n",
    "print(f'results: {result.get_counts()}')\n",
    "\n",
    "   "
   ]
  },
  {
   "cell_type": "markdown",
   "metadata": {},
   "source": [
    "### X: The Pauli X Gate\n",
    "\n",
    "The inputs are not generally termed true and false, in the logic of qubits, but |0> and |1>. The bar and angle surrounding some identifier is a notation invented by PAM Dirac, and is called a Ket. The previous example took the zero state, |0>, passed it through an Hadamard gate, and got a superpostion of |0> and |1> called the plus state and noted as |+>. In math,\n",
    "\n",
    "$$\n",
    " |+\\rangle = H\\, |0\\rangle\n",
    "$$\n",
    "\n",
    "The Pauli X Operator performs a logical not, so that |0> is transformed in passing through X to |1>, and |1> to |0>.\n",
    "\n",
    "So we would also expect that casading two X's give the identity,\n",
    "\n",
    "$$\n",
    " |0\\rangle = X\\,X\\, |0\\rangle, \\;\\; |1\\rangle = X\\,X\\, |1\\rangle\n",
    "$$\n",
    "\n",
    "References: [Qiskit X Gate](https://qiskit.org/documentation/stubs/qiskit.circuit.library.XGate.html#qiskit.circuit.library.XGate)"
   ]
  },
  {
   "cell_type": "code",
   "execution_count": 5,
   "metadata": {},
   "outputs": [
    {
     "name": "stdout",
     "output_type": "stream",
     "text": [
      "\n",
      "-------- CIRCUIT ---------\n",
      "      ┌───┐┌───┐┌─┐\n",
      "q3_0: ┤ X ├┤ H ├┤M├\n",
      "      └───┘└───┘└╥┘\n",
      "c1: 1/═══════════╩═\n",
      "                 0 \n",
      "-------------------------\n",
      "\n",
      "results: waiting for results from backend ibmq_qasm_simulator ...\n",
      "Status @ 0 s: VALIDATING, est. queue position: None\n",
      "results: {'0': 523, '1': 501}\n",
      "\n",
      "-------- CIRCUIT ---------\n",
      "      ┌───┐┌───┐┌───┐┌─┐\n",
      "q7_0: ┤ X ├┤ H ├┤ H ├┤M├\n",
      "      └───┘└───┘└───┘└╥┘\n",
      "c2: 1/════════════════╩═\n",
      "                      0 \n",
      "-------------------------\n",
      "\n",
      "results: waiting for results from backend ibmq_qasm_simulator ...\n",
      "Status @ 0 s: VALIDATING, est. queue position: None\n",
      "results: {'1': 1024}\n"
     ]
    }
   ],
   "source": [
    "\n",
    "def make_a_minus_state():\n",
    "    # make the circuit\n",
    "    q = QuantumRegister(1)\n",
    "    c = ClassicalRegister(1)\n",
    "    quantum_circuit = QuantumCircuit(q, c)\n",
    "    quantum_circuit.x(q)\n",
    "    quantum_circuit.h(q)\n",
    "    quantum_circuit.measure(q, c)\n",
    "    print('\\n-------- CIRCUIT ---------')\n",
    "    print(quantum_circuit.draw(output='text'))\n",
    "    print('-------------------------\\n')\n",
    "    return quantum_circuit        \n",
    "# our first circuit, comprising of a single H gate and a measurement\n",
    "\n",
    "quantum_circuit = make_a_minus_state()\n",
    "\n",
    "job = run_quantum_circuit_on_backend(quantum_circuit,provider,backend)\n",
    "print(f'results: waiting for results from backend {backend} ...')\n",
    "wait_for_job(backend, job)\n",
    "result = job.result()\n",
    "print(f'results: {result.get_counts()}')\n",
    "\n",
    "\n",
    "def make_a_minus_state_measure_as_minus():\n",
    "    # make the circuit\n",
    "    q = QuantumRegister(1)\n",
    "    c = ClassicalRegister(1)\n",
    "    quantum_circuit = QuantumCircuit(q, c)\n",
    "    quantum_circuit.x(q)\n",
    "    quantum_circuit.h(q)\n",
    "    quantum_circuit.h(q)\n",
    "    quantum_circuit.measure(q, c)\n",
    "    print('\\n-------- CIRCUIT ---------')\n",
    "    print(quantum_circuit.draw(output='text'))\n",
    "    print('-------------------------\\n')\n",
    "    return quantum_circuit        \n",
    "# our first circuit, comprising of a single H gate and a measurement\n",
    "\n",
    "quantum_circuit = make_a_minus_state_measure_as_minus()\n",
    "\n",
    "job = run_quantum_circuit_on_backend(quantum_circuit,provider,backend)\n",
    "print(f'results: waiting for results from backend {backend} ...')\n",
    "wait_for_job(backend, job)\n",
    "result = job.result()\n",
    "print(f'results: {result.get_counts()}')\n"
   ]
  },
  {
   "cell_type": "markdown",
   "metadata": {},
   "source": [
    "### Exercise A:\n",
    "\n",
    "Create a quantum circuit that gives the superposition of all 4 possible states of a qubit pair: 00, 01, 10, and 11. \n",
    "\n",
    "Hint: Just two H gates will do it.\n",
    "\n",
    "Notation: One can associated a binary number with a configuration of inputs, taking care not to discard leading zeros The case of 2 qubits as four binary numbers,\n",
    "\n",
    "$$\n",
    "|00\\rangle, \\; |01\\rangle, \\;  |10\\rangle, \\; |11\\rangle \n",
    "$$\n",
    "\n",
    "or they can be written in decimal, again remembering how many binary leading zeros to retain:\n",
    "\n",
    "$$\n",
    "|0\\rangle, \\; |1\\rangle, \\;  |2\\rangle, \\; |3\\rangle \n",
    "$$\n",
    "\n",
    "As a convention, the least significant bit is associated with the top qubit in the diagrams that arranges the input qubits vertically at the left edge of the diagram."
   ]
  },
  {
   "cell_type": "code",
   "execution_count": null,
   "metadata": {},
   "outputs": [],
   "source": []
  },
  {
   "cell_type": "markdown",
   "metadata": {},
   "source": [
    "_sample output_\n",
    "\n",
    "<pre>\n",
    "results: waiting for results from backend ibmq_qasm_simulator ...\n",
    "Status @ 0 s: VALIDATING, est. queue position: None\n",
    "results: {'00': 266, '01': 257, '10': 258, '11': 243}\n",
    "</pre>"
   ]
  },
  {
   "cell_type": "markdown",
   "metadata": {},
   "source": [
    "### Cnot: The Controlled Not Gate\n",
    "\n",
    "The Cnot gate takes two qubits as input and produces two qubits as output. One input qubit is the control, and it operates by negating the other input, if one; else both input pass unchanged,\n",
    "\n",
    "$$\n",
    "|ab\\rangle = |a(a+b)\\rangle\n",
    "$$\n",
    "\n",
    "where plus is defined as exclusive or, or equivalently mod 2 addition. \n",
    "\n",
    "References: [CX Gate](https://qiskit.org/documentation/stubs/qiskit.circuit.library.CXGate.html), [CNOT](https://qiskit.org/textbook/ch-gates/multiple-qubits-entangled-states.html#cnot)\n"
   ]
  },
  {
   "cell_type": "code",
   "execution_count": 8,
   "metadata": {},
   "outputs": [
    {
     "name": "stdout",
     "output_type": "stream",
     "text": [
      "\n",
      "-------- CIRCUIT ---------\n",
      "            ┌─┐   \n",
      "q12_0: ──■──┤M├───\n",
      "       ┌─┴─┐└╥┘┌─┐\n",
      "q12_1: ┤ X ├─╫─┤M├\n",
      "       └───┘ ║ └╥┘\n",
      " c4: 2/══════╩══╩═\n",
      "             0  1 \n",
      "-------------------------\n",
      "\n",
      "results: waiting for results from backend ibmq_qasm_simulator ...\n",
      "Status @ 0 s: VALIDATING, est. queue position: None\n",
      "results: {'00': 1024}\n",
      "\n",
      "-------- CIRCUIT ---------\n",
      "       ┌───┐     ┌─┐   \n",
      "q15_0: ┤ X ├──■──┤M├───\n",
      "       └───┘┌─┴─┐└╥┘┌─┐\n",
      "q15_1: ─────┤ X ├─╫─┤M├\n",
      "            └───┘ ║ └╥┘\n",
      " c5: 2/═══════════╩══╩═\n",
      "                  0  1 \n",
      "-------------------------\n",
      "\n",
      "results: waiting for results from backend ibmq_qasm_simulator ...\n",
      "Status @ 0 s: VALIDATING, est. queue position: None\n",
      "results: {'11': 1024}\n"
     ]
    }
   ],
   "source": [
    "\n",
    "def make_qubit_pair():\n",
    "    # make the circuit\n",
    "    q = QuantumRegister(2)\n",
    "    c = ClassicalRegister(2)\n",
    "    return (QuantumCircuit(q, c),q,c)\n",
    "\n",
    "\n",
    "def add_measurement_qubit_pair(qubit_pair):\n",
    "    qubit_pair[0].measure(qubit_pair[1],qubit_pair[2])\n",
    "    print('\\n-------- CIRCUIT ---------')\n",
    "    print(qubit_pair[0].draw(output='text'))\n",
    "    print('-------------------------\\n')\n",
    "    return qubit_pair\n",
    "\n",
    "\n",
    "def add_cnot_qubit_pair(qubit_pair):\n",
    "    qubit_pair[0].cx(0,1)\n",
    "    return qubit_pair\n",
    "\n",
    "def add_x_qubit_pair(qubit_pair):\n",
    "    qubit_pair[0].x(0)\n",
    "    return qubit_pair\n",
    "\n",
    "\n",
    "# with a |0> input\n",
    "\n",
    "qc = make_qubit_pair()\n",
    "qc = add_cnot_qubit_pair(qc)\n",
    "qc = add_measurement_qubit_pair(qc)\n",
    "\n",
    "job = run_quantum_circuit_on_backend(qc[0],provider,backend)\n",
    "print(f'results: waiting for results from backend {backend} ...')\n",
    "wait_for_job(backend, job)\n",
    "result = job.result()\n",
    "print(f'results: {result.get_counts()}')\n",
    "\n",
    "# with a |1> input\n",
    "\n",
    "qc = make_qubit_pair()\n",
    "qc = add_x_qubit_pair(qc)\n",
    "qc = add_cnot_qubit_pair(qc)\n",
    "qc = add_measurement_qubit_pair(qc)\n",
    "\n",
    "job = run_quantum_circuit_on_backend(qc[0],provider,backend)\n",
    "print(f'results: waiting for results from backend {backend} ...')\n",
    "wait_for_job(backend, job)\n",
    "result = job.result()\n",
    "print(f'results: {result.get_counts()}')\n",
    "\n"
   ]
  },
  {
   "cell_type": "markdown",
   "metadata": {},
   "source": [
    "\n",
    "### Exercise B\n",
    "\n",
    "Show the action of the cnot on all four inputs, $|0\\rangle$ through $|3\\rangle$, using the subroutine you wrote for Exercise A.\n"
   ]
  },
  {
   "cell_type": "code",
   "execution_count": null,
   "metadata": {},
   "outputs": [],
   "source": []
  },
  {
   "cell_type": "markdown",
   "metadata": {},
   "source": [
    "_sample output_\n",
    "\n",
    "<pre>\n",
    "results: waiting for results from backend ibmq_qasm_simulator ...\n",
    "Status @ 1 s: RUNNING, est. queue position: None\n",
    "results: {'00': 226, '01': 254, '10': 274, '11': 270}\n",
    "</pre>"
   ]
  },
  {
   "cell_type": "markdown",
   "metadata": {},
   "source": [
    "## Combining Quantum Gates"
   ]
  },
  {
   "cell_type": "markdown",
   "metadata": {},
   "source": [
    "### An entangled qubit pair\n",
    "\n",
    "Superposition is the quantum condition of qubits being simulatneously in several states. It is possible to create superpositions that link qubits together, that is, such that measuring one qubit, thus determining the state of that qubit, will determine the state of a different qubit, when prior it was in superposition.\n",
    "\n",
    "Such as state is the EPR pair, which is a two qubit state, a superposition of $|00\\rangle$ and $|11\\rangle$.\n",
    "\n",
    "Consider the first qubit: it is simultaneously $|0\\rangle$ and $|1\\rangle$ until measured. The same is true of the second qubit. However if either qubit is measured and the result is $|0\\rangle$, then the state must be $|00\\rangle$ and ttaking the measurement of other qubit will result in $|0\\rangle$.. If either qubit is measured and the result is $|1\\rangle$, then the state must be $|11\\rangle$ and taking the measurement of other qubit will result in $|1\\rangle$.\n",
    "\n",
    "\n",
    "To create such a pair, attach an H gate to the control of a cnot.\n"
   ]
  },
  {
   "cell_type": "code",
   "execution_count": null,
   "metadata": {},
   "outputs": [],
   "source": [
    "qp = make_qubit_pair()\n",
    "qp[0].h(0)\n",
    "qp = add_cnot_qubit_pair(qp)\n",
    "qp = add_measurement_qubit_pair(qp)\n",
    "\n",
    "job = run_quantum_circuit_on_backend(qp[0],provider,backend)\n",
    "print(f'results: waiting for results from backend {backend} ...')\n",
    "wait_for_job(backend, job)\n",
    "result = job.result()\n",
    "print(f'results: {result.get_counts()}')\n"
   ]
  },
  {
   "cell_type": "markdown",
   "metadata": {},
   "source": [
    "\n",
    "### Exercise C\n",
    "\n",
    "Give a circuit that creates the entangled pair $|01\\rangle$ with $|10\\rangle$.\n"
   ]
  },
  {
   "cell_type": "code",
   "execution_count": null,
   "metadata": {},
   "outputs": [],
   "source": []
  },
  {
   "cell_type": "markdown",
   "metadata": {},
   "source": [
    "_sample output_\n",
    "\n",
    "<pre>\n",
    "results: waiting for results from backend ibmq_qasm_simulator ...\n",
    "Status @ 1 s: RUNNING, est. queue position: None\n",
    "results: {'01': 525, '10': 499}\n",
    "</pre>"
   ]
  },
  {
   "cell_type": "markdown",
   "metadata": {},
   "source": [
    "### Exercise D\n",
    "\n",
    "Create a three qubit circuit that puts the three qubits in Greenberger–Horne–Zeilinger state (GHZ state).\n",
    "\n",
    "For 3 qubits, this is the superposition of $|000\\rangle$ with $|111\\rangle$."
   ]
  },
  {
   "cell_type": "code",
   "execution_count": null,
   "metadata": {},
   "outputs": [],
   "source": []
  },
  {
   "cell_type": "markdown",
   "metadata": {},
   "source": [
    "_sample output_\n",
    "\n",
    "<pre>\n",
    "results: waiting for results from backend ibmq_qasm_simulator ...\n",
    "Status @ 0 s: VALIDATING, est. queue position: None\n",
    "results: {'000': 512, '111': 512}\n",
    "</pre>"
   ]
  },
  {
   "cell_type": "markdown",
   "metadata": {},
   "source": [
    "### Exercise E\n",
    "\n",
    "Give a circuit that swaps the values of two qubits. That is, if the input is $|ab\\rangle$, the output is $|ba\\rangle$, where a and b are 0 or 1. Hint: use three cnot gates.\n"
   ]
  },
  {
   "cell_type": "code",
   "execution_count": null,
   "metadata": {},
   "outputs": [],
   "source": []
  },
  {
   "cell_type": "markdown",
   "metadata": {},
   "source": [
    "_sample output_\n",
    "\n",
    "<pre>\n",
    "input: 00\n",
    "results: waiting for results from backend ibmq_qasm_simulator ...\n",
    "Status @ 0 s: QUEUED, est. queue position: None\n",
    "results: {'00': 1024}\n",
    "\n",
    "input: 01\n",
    "results: waiting for results from backend ibmq_qasm_simulator ...\n",
    "Status @ 0 s: VALIDATING, est. queue position: None\n",
    "results: {'10': 1024}\n",
    "\n",
    "input: 10\n",
    "results: waiting for results from backend ibmq_qasm_simulator ...\n",
    "Status @ 0 s: QUEUED, est. queue position: None\n",
    "results: {'01': 1024}\n",
    "\n",
    "input: 11\n",
    "results: waiting for results from backend ibmq_qasm_simulator ...\n",
    "Status @ 0 s: VALIDATING, est. queue position: None\n",
    "results: {'11': 1024}\n",
    "</pre>"
   ]
  },
  {
   "cell_type": "markdown",
   "metadata": {},
   "source": [
    "\n",
    "### Exercise F\n",
    "\n",
    "Give a three qubit circuit that has output the exclusive or of all three input qubits. The result replaces the value of the middle qubit. \n",
    "\n",
    "Run it on a superposed input mixing $|000\\rangle$, $|001\\rangle$, $|100\\rangle$, $|101\\rangle$. Explain why the output suggests superposed outputs of four computations.\n"
   ]
  },
  {
   "cell_type": "code",
   "execution_count": null,
   "metadata": {},
   "outputs": [],
   "source": []
  },
  {
   "cell_type": "markdown",
   "metadata": {},
   "source": [
    "_sample output_\n",
    "\n",
    "<pre>\n",
    "results: waiting for results from backend ibmq_qasm_simulator ...\n",
    "Status @ 0 s: VALIDATING, est. queue position: None\n",
    "results: {'000': 266, '011': 236, '101': 252, '110': 270}\n",
    "</pre>\n"
   ]
  },
  {
   "cell_type": "code",
   "execution_count": null,
   "metadata": {},
   "outputs": [],
   "source": []
  }
 ],
 "metadata": {
  "kernelspec": {
   "display_name": "Python 3",
   "language": "python",
   "name": "python3"
  },
  "language_info": {
   "codemirror_mode": {
    "name": "ipython",
    "version": 3
   },
   "file_extension": ".py",
   "mimetype": "text/x-python",
   "name": "python",
   "nbconvert_exporter": "python",
   "pygments_lexer": "ipython3",
   "version": "3.6.10"
  }
 },
 "nbformat": 4,
 "nbformat_minor": 4
}
