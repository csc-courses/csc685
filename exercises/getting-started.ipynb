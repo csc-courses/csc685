{
 "cells": [
  {
   "cell_type": "markdown",
   "metadata": {},
   "source": [
    "## Getting Started\n",
    "\n",
    "\n",
    "_course: quantum cyrptography for beginners\n",
    "<br>date: 16 september 2022\n",
    "<br>author: burton rosenberg_\n"
   ]
  },
  {
   "cell_type": "markdown",
   "metadata": {},
   "source": [
    "### Installation\n",
    "\n",
    "1. Please install [Anaconda](https://docs.anaconda.com/anaconda/install/).\n",
    "1. The `conda` command is not available to create environments, and activate and disactivate them, and to install  packages.\n",
    "1. Create a new environment, call it what you want, e.g. `qiskit`. Activate that environment. The command prompt changes to include the name of the activated environment.\n",
    "1. With that environment activated, you might need to install jupyter with `conda install jupyter`.\n",
    "1. Install the [qiskit package](https://qiskit.org/documentation/install.html). The qiskit packages is installed using `pip`. As per the instructions, take the option to install the visualization option.\n",
    "\n",
    "The qiskit package allows you to write code on your host that will contact the IBM Quantum Experience to run, or simluate, your quantum circuits.\n"
   ]
  },
  {
   "cell_type": "markdown",
   "metadata": {},
   "source": [
    "### Loading your account and listing backends\n",
    "\n",
    "You need to enroll in the IBM Quantum Experience and get a token to access the API. Qiskit will store the token so that you only need to present the token to the qiskit library once.\n",
    "\n",
    "The file `csc685_util.py` is a small library of defines that call the qiskit API.\n",
    "\n",
    "- `load_or_save_IBMQ_account` returns a `provider` object, given an access token, or `None`, if the token is already stored on your host name.\n",
    "- `list_backends` lists the quantum hardware or simulators that are available on your account.\n",
    "- `run_quantum_circuit_on_backend` takes a circuit, a backend and the provider object, and submits the circuit to be run on the named backend.\n",
    "- `wait_for_job` queries the provider for the status of the job, repeatedly until done.\n",
    "\n",
    "I wrote these def's and you are free to improve them, or start afresh. IBM has updated there API's with new ways to interact which might be worth exploring.\n"
   ]
  },
  {
   "cell_type": "code",
   "execution_count": 1,
   "metadata": {},
   "outputs": [
    {
     "name": "stdout",
     "output_type": "stream",
     "text": [
      "backends available:\n",
      "\tibmq_qasm_simulator, pending jobs:0\n",
      "\tibmq_lima, pending jobs:479\n",
      "\tibmq_belem, pending jobs:92\n",
      "\tibmq_quito, pending jobs:88\n",
      "\tsimulator_statevector, pending jobs:0\n",
      "\tsimulator_mps, pending jobs:0\n",
      "\tsimulator_extended_stabilizer, pending jobs:0\n",
      "\tsimulator_stabilizer, pending jobs:0\n",
      "\tibmq_manila, pending jobs:110\n",
      "\tibm_nairobi, pending jobs:120\n",
      "\tibm_oslo, pending jobs:300\n"
     ]
    }
   ],
   "source": [
    "from csc685_util import *\n",
    "\n",
    "\n",
    "# your api token from IBM, first time run.\n",
    "# after that None is good\n",
    "\n",
    "#api_token = 'abcdefghijklmnopqrstuvwxyz'\n",
    "api_token = None\n",
    "\n",
    "provider = load_or_save_IBMQ_account(api_token)\n",
    "list_backends(provider)\n",
    "\n",
    "# choose your backend\n",
    "\n",
    "backend = 'ibmq_qasm_simulator'\n",
    "#backend = 'ibmq_armonk'\n",
    "#backend = 'ibmq_vigo'\n",
    "#backend = 'ibmq_london'\n",
    "\n",
    "# and so forth ... chose from the results given by provider.backends()\n"
   ]
  },
  {
   "cell_type": "markdown",
   "metadata": {},
   "source": [
    "### Creating  quantum circuit\n",
    "\n",
    "Having run the Python code up to this point, we are prepared to create and submit a circuit. We shall implement a quantum coin toss by placing a qubit in the \"plus state\" $|+\\rangle$ which is a superposition of the \"zero state\" $|0\\rangle$ and the \"one state\" $|1\\rangle$.\n",
    "\n",
    "When measured, the zero state will measure a classical 0, and the one state will measure a classical 1. As the plus state superimposes $|0\\rangle$ and $|1\\rangle$ equally, the probability of either outcome is 1/2.\n"
   ]
  },
  {
   "cell_type": "code",
   "execution_count": 8,
   "metadata": {},
   "outputs": [
    {
     "name": "stdout",
     "output_type": "stream",
     "text": [
      "\n",
      "-------- CIRCUIT ---------\n",
      "      ┌───┐┌─┐\n",
      " q23: ┤ H ├┤M├\n",
      "      └───┘└╥┘\n",
      "c4: 1/══════╩═\n",
      "            0 \n",
      "-------------------------\n",
      "\n",
      "results: waiting for results from backend ibmq_qasm_simulator ...\n",
      "Status @ 0 s: VALIDATING, est. queue position: None\n",
      "results: {'0': 531, '1': 493}\n"
     ]
    },
    {
     "data": {
      "image/png": "[encoded data removed]",
      "text/plain": [
       "<Figure size 700x500 with 1 Axes>"
      ]
     },
     "execution_count": 8,
     "metadata": {},
     "output_type": "execute_result"
    }
   ],
   "source": [
    "\n",
    "def make_a_plus_state():\n",
    "    # make the circuit\n",
    "    q = QuantumRegister(1)\n",
    "    c = ClassicalRegister(1)\n",
    "    quantum_circuit = QuantumCircuit(q, c)\n",
    "    quantum_circuit.h(q)\n",
    "    quantum_circuit.measure(q, c)\n",
    "    return quantum_circuit\n",
    "\n",
    "def draw_circuit(quantum_circuit):\n",
    "    print('\\n-------- CIRCUIT ---------')\n",
    "    print(quantum_circuit.draw(output='text'))\n",
    "    print('-------------------------\\n')\n",
    "\n",
    "    \n",
    "quantum_circuit = make_a_plus_state()\n",
    "draw_circuit(quantum_circuit)\n",
    "\n",
    "print(f'results: waiting for results from backend {backend} ...')\n",
    "job = run_quantum_circuit_on_backend(quantum_circuit,provider,backend)\n",
    "wait_for_job(backend, job, provider)\n",
    "result = job.result()\n",
    "\n",
    "\n",
    "print(f'results: {result.get_counts()}')\n",
    "\n",
    "plot_histogram(result.get_counts(), color='lightblue', title=\"quantum coin toss\")"
   ]
  },
  {
   "cell_type": "code",
   "execution_count": null,
   "metadata": {},
   "outputs": [],
   "source": []
  },
  {
   "cell_type": "markdown",
   "metadata": {},
   "source": [
    "### End of Notebook"
   ]
  },
  {
   "cell_type": "code",
   "execution_count": null,
   "metadata": {},
   "outputs": [],
   "source": []
  }
 ],
 "metadata": {
  "kernelspec": {
   "display_name": "Python 3 (ipykernel)",
   "language": "python",
   "name": "python3"
  },
  "language_info": {
   "codemirror_mode": {
    "name": "ipython",
    "version": 3
   },
   "file_extension": ".py",
   "mimetype": "text/x-python",
   "name": "python",
   "nbconvert_exporter": "python",
   "pygments_lexer": "ipython3",
   "version": "3.10.4"
  }
 },
 "nbformat": 4,
 "nbformat_minor": 4
}
